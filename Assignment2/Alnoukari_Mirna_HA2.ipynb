{
  "nbformat": 4,
  "nbformat_minor": 0,
  "metadata": {
    "colab": {
      "name": "Alnoukari_Mirna_HA2.ipynb",
      "provenance": [],
      "authorship_tag": "ABX9TyOqLlw8GGU1dy+orvNxW7ud",
      "include_colab_link": true
    },
    "kernelspec": {
      "name": "python3",
      "display_name": "Python 3"
    },
    "language_info": {
      "name": "python"
    }
  },
  "cells": [
    {
      "cell_type": "markdown",
      "metadata": {
        "id": "view-in-github",
        "colab_type": "text"
      },
      "source": [
        "<a href=\"https://colab.research.google.com/github/mirnanoukari/FoR/blob/main/Assignment2/Alnoukari_Mirna_HA2.ipynb\" target=\"_parent\"><img src=\"https://colab.research.google.com/assets/colab-badge.svg\" alt=\"Open In Colab\"/></a>"
      ]
    },
    {
      "cell_type": "markdown",
      "metadata": {
        "id": "9nBTgOBQ74Ew"
      },
      "source": [
        "# **Fundamentals of Robotics**\n",
        "\n",
        "#### *Assignment 2, Jacobian.*\n",
        "\n",
        "##### Work of: Mirna Alnoukari\n"
      ]
    },
    {
      "cell_type": "markdown",
      "metadata": {
        "id": "blAbb4oh9aDi"
      },
      "source": [
        "## **1. Robot Description**\n",
        "Antropomorphic Arm with Spherical Wrist, the robot have 6 joints and is a 6 DoF manipulator.\n",
        "\n",
        "The robot's configuration for Euler angles arrangement of $zyz$ is described with the figure below\n",
        "\n",
        "<img src= \"https://drive.google.com/uc?export=view&id=19VXCMEFHt67KQybZLwCOM66Kw0_ZFxO1\" alt=\"inverse\" width=\"500\" />\n",
        "\n",
        "***Figure 1: Robot model scheme***\n",
        "\n",
        "<img src= \"https://drive.google.com/uc?export=view&id=1B1xmxZCdJswWlRq4tN4b8ULqmDUpqWyH\" alt=\"inverse\" width=\"600\" />\n",
        "\n",
        "***Figure 2: zero configuration scheme***"
      ]
    },
    {
      "cell_type": "markdown",
      "metadata": {
        "id": "s_4_fC1m-bZF"
      },
      "source": [
        "## **2. Fixed Issues from Previous Assignment**\n",
        "\n",
        "\n",
        "1.   Length of the last three parts of the robot (l4, l5, l6) were given values other than zeros' because it caused singularities at all values of q. \n",
        "\n",
        "2.   Edited inverse kinematics after giving lengths to translation. Also made some switching between translations when it is possible (same axes).\n",
        "\n",
        "\n",
        "<img class=\"center\" src=\"https://drive.google.com/uc?export=view&id=1obSEKg4FrJ3QeIYOTK6LGrPE-o-t1amm\" alt=\"inverse\" width=\"400\" />\n",
        "\n",
        "***Figure 3: side view of the manipulator***\n"
      ]
    },
    {
      "cell_type": "code",
      "metadata": {
        "id": "fBZISapzXl14",
        "colab": {
          "base_uri": "https://localhost:8080/"
        },
        "outputId": "a1bddafd-6c8a-4aca-c41a-70a5db7f1a77"
      },
      "source": [
        "import numpy as np\n",
        "from numpy.linalg import inv\n",
        "import sympy as sp\n",
        "\n",
        "def Rx(q):\n",
        "   return np.array([[1, 0, 0, 0],\n",
        "              [0, np.cos(q), - np.sin(q), 0],\n",
        "              [0, np.sin(q), np.cos(q), 0],\n",
        "              [0, 0, 0, 1]])\n",
        "   \n",
        "\n",
        "def Ry (q):\n",
        "  return np.array([[np.cos(q), 0, np.sin(q), 0],\n",
        "              [0, 1, 0, 0],\n",
        "              [- np.sin(q), 0, np.cos(q), 0],\n",
        "              [0, 0, 0, 1]])\n",
        "\n",
        "def Rz(q):\n",
        "  return np.array([[np.cos(q), - np.sin(q), 0, 0],\n",
        "              [np.sin(q), np.cos(q), 0, 0],\n",
        "              [0, 0, 1, 0],\n",
        "              [0, 0, 0, 1]])\n",
        "\n",
        "def Tx(d):\n",
        "   return np.array([[1, 0, 0, d],\n",
        "              [0, 1, 0, 0],\n",
        "              [0, 0, 1, 0],\n",
        "              [0, 0, 0, 1]])\n",
        "   \n",
        "def Ty(d):\n",
        "  return np.array([[1, 0, 0, 0],\n",
        "              [0, 1, 0, d],\n",
        "              [0, 0, 1, 0],\n",
        "              [0, 0, 0, 1]])\n",
        "\n",
        "def Tz(d):\n",
        "  return np.array([[1, 0, 0, 0],\n",
        "              [0, 1, 0, 0],\n",
        "              [0, 0, 1, d],\n",
        "              [0, 0, 0, 1]])\n",
        "\n",
        "l = [1, 1, 1, 1, 1, 1]\n",
        "\n",
        "def T1(q1):\n",
        "  return Rz(q1) @ Tz(l[0])\n",
        "\n",
        "def T2(q2):\n",
        "  return Rx(q2) @ Tz(l[1])\n",
        "\n",
        "def T3(q3):\n",
        "  return Rx(q3) @ Tz(l[2])\n",
        "  \n",
        "def T4(q4):\n",
        "  return Tz(l[3]) @ Rz(q4)\n",
        "\n",
        "def T5(q5):\n",
        "  return Ry(q5)\n",
        "\n",
        "def T6(q6):\n",
        "  return Rz(q6) @ Tz(l[4]) @ Tz(l[5])\n",
        "\n",
        "def FK_solve(q, flag):\n",
        "  A = [T1(q[0]), T2(q[1]), T3(q[2]), T4(q[3]), T5(q[4]), T6(q[5])]\n",
        "  def f(A):\n",
        "    ret = np.eye(4)\n",
        "    for a in A:\n",
        "      ret = ret @ a\n",
        "    return ret\n",
        "\n",
        "  if flag == 'ee': return f(A)\n",
        "  if flag == 'full': return [f(A[:i+1]) for i in range(6)]\n",
        "\n",
        "def transform_base(trans, q):\n",
        "  return trans @ FK_solve(q, 'ee')\n",
        "import itertools as it\n",
        "#This is a generator that returns the possible solutions for q \n",
        "def IK_solve(base_frame, ee_frame):\n",
        "  frame = inv(base_frame) @ ee_frame \n",
        "  #Tw is to get rid of the translations Tz(l[5]) and Tz(l[4]) that were added in T6 \n",
        "  Tw = frame @ inv(Tz(l[5])) @ inv(Tz(l[4]))\n",
        "  x, y, z = Tw[0, 3], Tw[1, 3], Tw[2, 3]\n",
        "  # solving q1\n",
        "  q1_sols = [-np.arctan2(x, y)]\n",
        "  q1_sols.append(q1_sols[0] + np.pi)\n",
        "  \n",
        "  for q1 in q1_sols:\n",
        "    #solving q2\n",
        "    d = np.sqrt(x**2 + y**2)\n",
        "    e = z - l[0]\n",
        "    h = np.sqrt(d**2 + e**2)\n",
        "\n",
        "    theta_1_sols = [np.arccos((l[1]**2 + h**2 - (l[2] + l[3])**2) / (2* l[1] * h))]\n",
        "    theta_1_sols.append(-theta_1_sols[0])\n",
        "    \n",
        "    theta_2_sols = [np.arccos((l[0] ** 2 + h ** 2 - (x ** 2 + y ** 2 + z ** 2)) / (2 * l[0] * h))]\n",
        "    theta_2_sols.append(-theta_2_sols[0])\n",
        "    \n",
        "    q2_sols = [np.pi - (theta_1 + theta_2) for theta_1, theta_2 in it.product(theta_1_sols, theta_2_sols)]\n",
        "    \n",
        "    for q2 in q2_sols:\n",
        "      #solving q3\n",
        "      q3_sols = [np.arccos(-(l[1]**2 + (l[2] + l[3])**2 - ((z - l[0])**2 + x**2 + y**2)) / (2 * l[1] * (l[2] + l[3])))]\n",
        "      q3_sols.append(-q3_sols[0])\n",
        "      \n",
        "      for q3 in q3_sols:\n",
        "        # solving q5\n",
        "        T123 = T1(q1) @ T2(q2) @ T3(q3)\n",
        "        # print(f'123: {T123}')\n",
        "        T456 = inv(Tz(l[3])) @ inv(T123) @ Tw\n",
        "        # print(f'456: {T456}')\n",
        "        q5_sols = [np.arccos(T456[2, 2])]\n",
        "        q5_sols.append(-q5_sols[0])\n",
        "        for q5 in q5_sols:\n",
        "          # solving q4\n",
        "          if np.abs(q5) > 1e-3:\n",
        "            q4_sols = [np.arcsin(T456[1, 2] / np.sin(q5))]\n",
        "            q4_sols.append(np.pi - q4_sols[0])\n",
        "          else:\n",
        "            q4_sols = [0]\n",
        "          for q4 in q4_sols:\n",
        "            # solving q6\n",
        "            if np.abs(q5) > 1e-3:\n",
        "              q6_sols = [np.arccos(-T456[2, 0] / np.sin(q5))]\n",
        "              q6_sols.append(-q6_sols[0])\n",
        "            else:\n",
        "              q6_sols = [np.arccos(T456[0, 0])]\n",
        "              q6_sols.append(-q6_sols[0])\n",
        "            for q6 in q6_sols:\n",
        "              q = [q1, q2, q3, q4, q5, q6]\n",
        "              \n",
        "              if np.sum(np.abs(transform_base(base_frame, q) - ee_frame)) < 1e-5:\n",
        "                yield q\n",
        "\n",
        "for sol in IK_solve(np.eye(4), FK_solve([1, 2, 3, 4, 5, 6], 'ee')):\n",
        "  print(sol)"
      ],
      "execution_count": null,
      "outputs": [
        {
          "output_type": "stream",
          "name": "stdout",
          "text": [
            "[1.0, 1.9999999999999987, 2.9999999999999996, 0.8584073464102063, 1.2831853071795851, 2.8584073464102073]\n",
            "[1.0, 1.9999999999999987, 2.9999999999999996, 3.9999999999999996, -1.2831853071795851, -0.2831853071795859]\n",
            "[1.0, 7.722353955356057, -2.9999999999999996, 0.7800887828171531, 1.0795645970312828, 3.0630170278723474]\n",
            "[1.0, 7.722353955356057, -2.9999999999999996, 3.921681436406946, -1.0795645970312828, -0.07857562571744596]\n",
            "[4.141592653589793, -1.4391686481764712, 2.9999999999999996, 3.9216814364069466, 1.0795645970312828, 3.0630170278723474]\n",
            "[4.141592653589793, -1.4391686481764712, 2.9999999999999996, 0.7800887828171533, -1.0795645970312828, -0.07857562571744596]\n",
            "[4.141592653589793, 4.283185307179588, -2.9999999999999996, 3.9999999999999996, 1.2831853071795851, 2.858407346410207]\n",
            "[4.141592653589793, 4.283185307179588, -2.9999999999999996, 0.8584073464102063, -1.2831853071795851, -0.2831853071795863]\n"
          ]
        }
      ]
    },
    {
      "cell_type": "code",
      "metadata": {
        "colab": {
          "base_uri": "https://localhost:8080/"
        },
        "id": "xn0RwLlccREb",
        "outputId": "850f14ed-7d1a-4b61-bd92-9a96155115ab"
      },
      "source": [
        "#Validation test\n",
        "successes = 0\n",
        "total = 0\n",
        "for _ in range(10):\n",
        "  q = 2 * np.pi * np.random.random(6)\n",
        "  ee = FK_solve(q, 'ee')\n",
        "  for iq in IK_solve(np.eye(4), ee):\n",
        "    total += 1\n",
        "    iee = FK_solve(iq, 'ee')\n",
        "    if np.sum(np.abs(ee - iee)) > 1e-3:\n",
        "      print('ERROR')\n",
        "      print(q)\n",
        "      print(ee)\n",
        "      print(iee)\n",
        "    else:\n",
        "      successes += 1\n",
        "\n",
        "print(f'{successes} out of {total} successes, {successes / total * 100}% accuracy')"
      ],
      "execution_count": null,
      "outputs": [
        {
          "output_type": "stream",
          "name": "stdout",
          "text": [
            "80 out of 80 successes, 100.0% accuracy\n"
          ]
        }
      ]
    },
    {
      "cell_type": "markdown",
      "metadata": {
        "id": "iJ5XC7jOmq02"
      },
      "source": [
        "## **3. Jacobian Matrix**\n",
        "Jacobian matrix describes the relationship between every joint with the end effector; it relates linear and angular velocity of the end effector with joint velocities.\n",
        "\n",
        "To calculate the Jacobian matrix, we need forward kinematics solution:\n",
        "\n",
        "$$\n",
        "T = T_{base}\\cdot R_z^{q_1}\\space T_z^{l_1} \\cdot R_x^{q_2}\\space T_z^{l_2} \\cdot R_x^{q_3}\\space T_z^{l_3} \\cdot T_z^{l_4} \\space R_z^{q_4} \\cdot R_y^{q_5} \\cdot R_z^{q_6} \\space T_z^{l_5} \\space T_z^{l_6} \\cdot T_{tool}\n",
        "$$\n",
        "\n",
        "\n",
        "> Note: This part was edited when we decided to add $T_z^{l_4}$, $T_z^{l_5}$ and $T_z^{l_6}$ with some change in their order in case of same axis configuration, to have consequent rotation matrices.\n",
        "\n",
        "\n",
        "\n",
        "We will use FK_solve(q, flag) function from the previous assignment.\n",
        "\n",
        "The Jacobian of revolute joints is calculated using the following equation: \n",
        "\n",
        "$$\n",
        "J_i = \\left(\n",
        "\\begin{array}{cccc}\n",
        "U_{i-1} \\times (O_n - O_0) \\\\ \n",
        "U_{i-1}\n",
        "\\end{array}\n",
        "\\right)\n",
        "$$\n",
        "\n",
        "Where $U_i$ is the column vector corresponding to the axis of the rotation matrix, and $O_i$ is the vector of position from forward kinematics transformation. The Jacobian will be written at the following format:    \n",
        "\n",
        "$$\n",
        "J_i = \\left(\n",
        "\\begin{array}{cccc}\n",
        " J_1 & J_2 & J_3 & J_4 & J_5 & J_6\n",
        "\\end{array}\n",
        "\\right)\n",
        "$$"
      ]
    },
    {
      "cell_type": "code",
      "metadata": {
        "id": "T-R55wq_zb6c"
      },
      "source": [
        "def Jacobian(F):\n",
        "  Fext = [np.eye(4)] + F\n",
        "  \n",
        "  u = [2, 0, 0, 2, 1, 2]\n",
        "  U = [Fext[i][:3, u[i]] for i in range(6)]\n",
        "  \n",
        "  O = [Fext[i][:3, 3] for i in range(7)]\n",
        "\n",
        "  J = np.zeros((6, 6))\n",
        "  for i in range (6):\n",
        "    J[:,i] = np.concatenate([np.cross(U[i], (O[6] - O[i])), U[i]])\n",
        "\n",
        "  return J"
      ],
      "execution_count": null,
      "outputs": []
    },
    {
      "cell_type": "markdown",
      "metadata": {
        "id": "TOaDr1anBSG6"
      },
      "source": [
        "## **4. Singularity Analysis**\n",
        "\n",
        "Singularity cases can be obtained from the Jacobian matrix with different approaches as discussed in lecture, here we will use those two cases:\n",
        "\n",
        "1.   Jacobian matrix determinant becomes zero\n",
        "2.   Checking the rank of the Jacobian matrix \n",
        " \n",
        "We have found one case of singularity when $q_5 = 0$ only, with other random values for $q$'s.\n",
        "\n",
        "\n",
        "\n",
        "\n"
      ]
    },
    {
      "cell_type": "code",
      "metadata": {
        "id": "4LezWVHEFBcu"
      },
      "source": [
        "def Check_singular(Jacobian):\n",
        "  return np.linalg.matrix_rank(Jacobian) < 6"
      ],
      "execution_count": null,
      "outputs": []
    },
    {
      "cell_type": "markdown",
      "metadata": {
        "id": "ZquXkzWtGrkd"
      },
      "source": [
        "Example of singularity in case $q_5 = 0$:"
      ]
    },
    {
      "cell_type": "code",
      "metadata": {
        "colab": {
          "base_uri": "https://localhost:8080/"
        },
        "id": "iOcx33CKPRYj",
        "outputId": "983a75f8-06d3-4690-8bd9-6707a90f7798"
      },
      "source": [
        "q = np.array([2, 1, 4, 5, 0, 3])\n",
        "print('det:', np.linalg.det(Jacobian(FK_solve(q, 'full'))))\n",
        "print('Rank:', np.linalg.matrix_rank(Jacobian(FK_solve(q, 'full'))))\n",
        "print('Jacobian \\n', np.around(Jacobian(FK_solve(q, 'full')), 5))"
      ],
      "execution_count": null,
      "outputs": [
        {
          "output_type": "stream",
          "name": "stdout",
          "text": [
            "det: 0.0\n",
            "Rank: 5\n",
            "Jacobian \n",
            " [[ 1.24604  1.52303  1.03173 -0.       0.25859 -0.     ]\n",
            " [-2.72264  0.69703  0.47218  0.       0.74226  0.     ]\n",
            " [ 0.       2.99423  3.8357   0.       1.83907  0.     ]\n",
            " [ 0.      -0.41615 -0.41615 -0.87195 -0.47222 -0.87195]\n",
            " [ 0.       0.9093   0.9093  -0.39905  0.83846 -0.39905]\n",
            " [ 1.       0.       0.       0.28366 -0.27201  0.28366]]\n"
          ]
        }
      ]
    },
    {
      "cell_type": "markdown",
      "metadata": {
        "id": "Uf0sm2WSI0FJ"
      },
      "source": [
        "## **5.  Cartesian Velocity**\n",
        "\n",
        "The relation between joint velocities and cartesian velocities:\n",
        "\n",
        "$$\n",
        "𝑋 ̇ = J(q) \\ q̇\n",
        "$$\n",
        "\n",
        "That means that in order to get the cartesian velocity, we only need to multiply Jacobian matrix we already obtained with $q̇$."
      ]
    },
    {
      "cell_type": "code",
      "metadata": {
        "id": "8qGLbGxaGY9w"
      },
      "source": [
        "def cartesian_vel(Jacobian, q_dot):\n",
        "  return Jacobian @ q_dot"
      ],
      "execution_count": null,
      "outputs": []
    },
    {
      "cell_type": "markdown",
      "metadata": {
        "id": "fPprc-y3Ge8n"
      },
      "source": [
        "## **Numerical Solution**\n",
        "\n",
        "Using the definition of differentiations, we implemented the following equation to calculate Jacobian:    \n",
        "\n",
        "\n",
        "```\n",
        "𝐽 = FK_solve(q2, 'ee') - FK_solve(q, 'ee') / ɛ\n",
        "\n",
        "```\n",
        "\n",
        "Where $ε < 10^{-3}$\n",
        " \n"
      ]
    },
    {
      "cell_type": "code",
      "metadata": {
        "colab": {
          "base_uri": "https://localhost:8080/"
        },
        "id": "D3A5p-t143ha",
        "outputId": "cc0ea02f-e98a-4217-e10d-682c3559951e"
      },
      "source": [
        "q2 = np.zeros(5+1)\n",
        "eps = 0.001\n",
        "q2[0] += np.pi/4 + eps\n",
        "print(q)\n",
        "print(q2)\n",
        "fkq1 = FK_solve(q, 'ee')\n",
        "fkq2 = FK_solve(q2, 'ee')\n",
        "print(fkq1)\n",
        "print(fkq2)\n",
        "delta = np.subtract(fkq2 , fkq1) / eps\n",
        "print(delta)"
      ],
      "execution_count": null,
      "outputs": [
        {
          "output_type": "stream",
          "name": "stdout",
          "text": [
            "[2 1 4 5 0 3]\n",
            "[0.78639816 0.         0.         0.         0.         0.        ]\n",
            "[[-0.19463905  0.44924761 -0.87194738 -2.7226421 ]\n",
            " [-0.24909172 -0.88244534 -0.3990533  -1.24603773]\n",
            " [-0.94871964  0.13952351  0.28366219  2.67495105]\n",
            " [ 0.          0.          0.          1.        ]]\n",
            "[[ 0.70639932 -0.70781353  0.          0.        ]\n",
            " [ 0.70781353  0.70639932  0.          0.        ]\n",
            " [ 0.          0.          1.          6.        ]\n",
            " [ 0.          0.          0.          1.        ]]\n",
            "[[  901.038375   -1157.06114203   871.94737547  2722.64210065]\n",
            " [  956.9052547   1588.84465972   399.05330339  1246.03772518]\n",
            " [  948.71963903  -139.52351438   716.33781454  3325.04895228]\n",
            " [    0.             0.             0.             0.        ]]\n"
          ]
        }
      ]
    }
  ]
}