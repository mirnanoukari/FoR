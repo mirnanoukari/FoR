{
  "nbformat": 4,
  "nbformat_minor": 0,
  "metadata": {
    "colab": {
      "name": "Dynamics_FoR_A4.ipynb",
      "provenance": [],
      "collapsed_sections": [],
      "include_colab_link": true
    },
    "kernelspec": {
      "name": "python3",
      "display_name": "Python 3"
    },
    "language_info": {
      "name": "python"
    }
  },
  "cells": [
    {
      "cell_type": "markdown",
      "metadata": {
        "id": "view-in-github",
        "colab_type": "text"
      },
      "source": [
        "<a href=\"https://colab.research.google.com/github/mirnanoukari/FoR/blob/main/Assignment4/Dynamics_FoR_A4.ipynb\" target=\"_parent\"><img src=\"https://colab.research.google.com/assets/colab-badge.svg\" alt=\"Open In Colab\"/></a>"
      ]
    },
    {
      "cell_type": "markdown",
      "metadata": {
        "id": "vBKQFFNjEp6P"
      },
      "source": [
        "# **Fundamentals of Robotics**\n",
        "## Assignment 4: *Dynamics*\n",
        "\n",
        "Work of: Mirna Alnoukari\n",
        "\n",
        "Email: m.alnoukari@innopolis.university\n",
        "\n"
      ]
    },
    {
      "cell_type": "markdown",
      "metadata": {
        "id": "yvEKyppLbZfS"
      },
      "source": [
        "## ***Introduction***\n",
        "In this assignment we are going to derive the dynamic model for our 6-DoF antropomorphic arm with a spherical wrist, with Euler-Lagrange method:    \n",
        "$$\n",
        "M(q) · q̈ + C(q, q̇)· q̇ + g(q) = τ\n",
        "$$\n",
        "\n",
        "The dynamics of a robot are used to calculate torques, thus achieving a specific trajectory $(q, q̇, q̈)$ which are the input to a robot control system.\n",
        "\n",
        "\n",
        "The structure of this code:\n",
        "\n",
        "All the components in the dynamic equation are obtained symbolically using `Sympy`:\n",
        "1.   Kinematics calculations taken from previous assignment\n",
        "2.   Center of mass function that will be needed for calculation of jacobian matrices\n",
        "3.   Linear and angular jacobian matrices calculations that will be used for deriving matrix of inertia\n",
        "4.   Inertia matrix\n",
        "5.   Corioli matrix\n",
        "6.   Gravity matrix\n",
        "\n",
        "And lastly: \n",
        "*   Functions for numerical input values\n",
        "\n",
        "\n"
      ]
    },
    {
      "cell_type": "markdown",
      "source": [
        "## Kinematics\n",
        "First, the following cell is taken from the previous kinematics assignement to calculate rotation and translation matrices:\n",
        " "
      ],
      "metadata": {
        "id": "tpNGcMkNRcCN"
      }
    },
    {
      "cell_type": "code",
      "metadata": {
        "id": "2tGurkIPEZ6V"
      },
      "source": [
        "import numpy as np\n",
        "from numpy.linalg import inv\n",
        "import sympy as sp\n",
        "\n",
        "def Rx(q):\n",
        "   return np.array([[1, 0, 0, 0],\n",
        "              [0, sp.cos(q), - sp.sin(q), 0],\n",
        "              [0, sp.sin(q), sp.cos(q), 0],\n",
        "              [0, 0, 0, 1]])\n",
        "   \n",
        "\n",
        "def Ry (q):\n",
        "  return np.array([[sp.cos(q), 0, sp.sin(q), 0],\n",
        "              [0, 1, 0, 0],\n",
        "              [- sp.sin(q), 0, sp.cos(q), 0],\n",
        "              [0, 0, 0, 1]])\n",
        "\n",
        "def Rz(q):\n",
        "  return np.array([[sp.cos(q), - sp.sin(q), 0, 0],\n",
        "              [sp.sin(q), sp.cos(q), 0, 0],\n",
        "              [0, 0, 1, 0],\n",
        "              [0, 0, 0, 1]])\n",
        "\n",
        "def Tx(d):\n",
        "   return np.array([[1, 0, 0, d],\n",
        "              [0, 1, 0, 0],\n",
        "              [0, 0, 1, 0],\n",
        "              [0, 0, 0, 1]])\n",
        "   \n",
        "def Ty(d):\n",
        "  return np.array([[1, 0, 0, 0],\n",
        "              [0, 1, 0, d],\n",
        "              [0, 0, 1, 0],\n",
        "              [0, 0, 0, 1]])\n",
        "\n",
        "def Tz(d):\n",
        "  return np.array([[1, 0, 0, 0],\n",
        "              [0, 1, 0, 0],\n",
        "              [0, 0, 1, d],\n",
        "              [0, 0, 0, 1]])\n"
      ],
      "execution_count": null,
      "outputs": []
    },
    {
      "cell_type": "markdown",
      "source": [
        "The following are the parameters we will use later to obtain every component of the dynamic equation, which are M, C, and g matrices.\n",
        "q and dq are kept symbolically while we assumed simple values for the other variables to simplify our calculations."
      ],
      "metadata": {
        "id": "NwTN0tedaLlO"
      }
    },
    {
      "cell_type": "code",
      "source": [
        "q = sp.symbols('q1 q2 q3 q4 q5 q6')\n",
        "dq = sp.symbols('dq1 dq2 dq3 dq4 dq5 dq6')\n",
        "lc = [0.5 for _ in range(6)]\n",
        "l = [1 for _ in range(6)]\n",
        "I = np.array([[1 for b in ['x', 'y', 'z']] for a in ['x', 'y', 'z']])\n",
        "m = [1 for _ in range(6)]"
      ],
      "metadata": {
        "id": "7kL0n3HBNjQj"
      },
      "execution_count": null,
      "outputs": []
    },
    {
      "cell_type": "markdown",
      "source": [
        "## **Center of Mass**\n",
        "To be able to derive the Jacobian matrix for linear and angular velocity, we need to calculate the center of mass of each link in our 6-DoF robot. We can do this by getting the position for each link from our forward kinematics configuration:\n",
        "$$\n",
        "T = T_{base}\\cdot R_z^{q_1}\\space T_z^{l_1} \\cdot R_x^{q_2}\\space T_z^{l_2} \\cdot R_x^{q_3}\\space T_z^{l_3} \\cdot T_z^{l_4} \\space R_z^{q_4} \\cdot R_y^{q_5} \\cdot R_z^{q_6} \\space T_z^{l_5} \\space T_z^{l_6} \\cdot T_{tool}\n",
        "$$"
      ],
      "metadata": {
        "id": "0dbUqqFDaGQF"
      }
    },
    {
      "cell_type": "code",
      "source": [
        "com = np.zeros((6, 4, 4), dtype=np.object)\n",
        "com[0] = Rz(q[0]) @ Tz(lc[0])\n",
        "com[1] = Rz(q[0]) @ Tz(l[0]) @ Rx(q[1]) @ Tz(lc[1])\n",
        "com[2] = Rz(q[0]) @ Tz(l[0]) @ Rx(q[1]) @ Tz(l[1]) @ Rx(q[2]) @ Tz(lc[2])\n",
        "com[3] = Rz(q[0]) @ Tz(l[0]) @ Rx(q[1]) @ Tz(l[1]) @ Rx(q[2]) @ Tz(l[2]) @ Rz(q[3]) @ Tz(lc[3])\n",
        "com[4] = Rz(q[0]) @ Tz(l[0]) @ Rx(q[1]) @ Tz(l[1]) @ Rx(q[2]) @ Tz(l[2]) @ Rz(q[3]) @ Tz(l[3]) @ Ry(q[4]) @ Tz(lc[4])\n",
        "com[5] = Rz(q[0]) @ Tz(l[0]) @ Rx(q[1]) @ Tz(l[1]) @ Rx(q[2]) @ Tz(l[2]) @ Rz(q[3]) @ Tz(l[3]) @ Ry(q[4]) @ Tz(l[4]) @ Rz(q[5]) @ Tz(lc[5])\n",
        "\n",
        "sp.Array(com)"
      ],
      "metadata": {
        "colab": {
          "base_uri": "https://localhost:8080/",
          "height": 118
        },
        "id": "UvHGrU7HNlvD",
        "outputId": "68b80d6b-bfa1-4eea-cc96-745acd3c4b37"
      },
      "execution_count": null,
      "outputs": [
        {
          "output_type": "execute_result",
          "data": {
            "text/latex": "$\\displaystyle \\left[\\begin{matrix}\\left[\\begin{matrix}1.0 \\cos{\\left(q_{1} \\right)} & - 1.0 \\sin{\\left(q_{1} \\right)} & 0 & 0\\\\1.0 \\sin{\\left(q_{1} \\right)} & 1.0 \\cos{\\left(q_{1} \\right)} & 0 & 0\\\\0.0 & 0.0 & 1.0 & 0.5\\\\0.0 & 0.0 & 0.0 & 1.0\\end{matrix}\\right] & \\left[\\begin{matrix}1.0 \\cos{\\left(q_{1} \\right)} & - 1.0 \\sin{\\left(q_{1} \\right)} \\cos{\\left(q_{2} \\right)} & 1.0 \\sin{\\left(q_{1} \\right)} \\sin{\\left(q_{2} \\right)} & 0.5 \\sin{\\left(q_{1} \\right)} \\sin{\\left(q_{2} \\right)}\\\\1.0 \\sin{\\left(q_{1} \\right)} & 1.0 \\cos{\\left(q_{1} \\right)} \\cos{\\left(q_{2} \\right)} & - 1.0 \\sin{\\left(q_{2} \\right)} \\cos{\\left(q_{1} \\right)} & - 0.5 \\sin{\\left(q_{2} \\right)} \\cos{\\left(q_{1} \\right)}\\\\0 & 1.0 \\sin{\\left(q_{2} \\right)} & 1.0 \\cos{\\left(q_{2} \\right)} & 0.5 \\cos{\\left(q_{2} \\right)} + 1.0\\\\0 & 0 & 0 & 1.0\\end{matrix}\\right] & \\left[\\begin{matrix}1.0 \\cos{\\left(q_{1} \\right)} & 1.0 \\sin{\\left(q_{1} \\right)} \\sin{\\left(q_{2} \\right)} \\sin{\\left(q_{3} \\right)} - 1.0 \\sin{\\left(q_{1} \\right)} \\cos{\\left(q_{2} \\right)} \\cos{\\left(q_{3} \\right)} & 1.0 \\sin{\\left(q_{1} \\right)} \\sin{\\left(q_{2} \\right)} \\cos{\\left(q_{3} \\right)} + 1.0 \\sin{\\left(q_{1} \\right)} \\sin{\\left(q_{3} \\right)} \\cos{\\left(q_{2} \\right)} & 0.5 \\sin{\\left(q_{1} \\right)} \\sin{\\left(q_{2} \\right)} \\cos{\\left(q_{3} \\right)} + 1.0 \\sin{\\left(q_{1} \\right)} \\sin{\\left(q_{2} \\right)} + 0.5 \\sin{\\left(q_{1} \\right)} \\sin{\\left(q_{3} \\right)} \\cos{\\left(q_{2} \\right)}\\\\1.0 \\sin{\\left(q_{1} \\right)} & - 1.0 \\sin{\\left(q_{2} \\right)} \\sin{\\left(q_{3} \\right)} \\cos{\\left(q_{1} \\right)} + 1.0 \\cos{\\left(q_{1} \\right)} \\cos{\\left(q_{2} \\right)} \\cos{\\left(q_{3} \\right)} & - 1.0 \\sin{\\left(q_{2} \\right)} \\cos{\\left(q_{1} \\right)} \\cos{\\left(q_{3} \\right)} - 1.0 \\sin{\\left(q_{3} \\right)} \\cos{\\left(q_{1} \\right)} \\cos{\\left(q_{2} \\right)} & - 0.5 \\sin{\\left(q_{2} \\right)} \\cos{\\left(q_{1} \\right)} \\cos{\\left(q_{3} \\right)} - 1.0 \\sin{\\left(q_{2} \\right)} \\cos{\\left(q_{1} \\right)} - 0.5 \\sin{\\left(q_{3} \\right)} \\cos{\\left(q_{1} \\right)} \\cos{\\left(q_{2} \\right)}\\\\0 & 1.0 \\sin{\\left(q_{2} \\right)} \\cos{\\left(q_{3} \\right)} + 1.0 \\sin{\\left(q_{3} \\right)} \\cos{\\left(q_{2} \\right)} & - 1.0 \\sin{\\left(q_{2} \\right)} \\sin{\\left(q_{3} \\right)} + 1.0 \\cos{\\left(q_{2} \\right)} \\cos{\\left(q_{3} \\right)} & - 0.5 \\sin{\\left(q_{2} \\right)} \\sin{\\left(q_{3} \\right)} + 0.5 \\cos{\\left(q_{2} \\right)} \\cos{\\left(q_{3} \\right)} + 1.0 \\cos{\\left(q_{2} \\right)} + 1.0\\\\0 & 0 & 0 & 1.0\\end{matrix}\\right] & \\left[\\begin{matrix}1.0 \\left(\\sin{\\left(q_{1} \\right)} \\sin{\\left(q_{2} \\right)} \\sin{\\left(q_{3} \\right)} - \\sin{\\left(q_{1} \\right)} \\cos{\\left(q_{2} \\right)} \\cos{\\left(q_{3} \\right)}\\right) \\sin{\\left(q_{4} \\right)} + 1.0 \\cos{\\left(q_{1} \\right)} \\cos{\\left(q_{4} \\right)} & 1.0 \\left(\\sin{\\left(q_{1} \\right)} \\sin{\\left(q_{2} \\right)} \\sin{\\left(q_{3} \\right)} - \\sin{\\left(q_{1} \\right)} \\cos{\\left(q_{2} \\right)} \\cos{\\left(q_{3} \\right)}\\right) \\cos{\\left(q_{4} \\right)} - 1.0 \\sin{\\left(q_{4} \\right)} \\cos{\\left(q_{1} \\right)} & 1.0 \\sin{\\left(q_{1} \\right)} \\sin{\\left(q_{2} \\right)} \\cos{\\left(q_{3} \\right)} + 1.0 \\sin{\\left(q_{1} \\right)} \\sin{\\left(q_{3} \\right)} \\cos{\\left(q_{2} \\right)} & 1.5 \\sin{\\left(q_{1} \\right)} \\sin{\\left(q_{2} \\right)} \\cos{\\left(q_{3} \\right)} + 1.0 \\sin{\\left(q_{1} \\right)} \\sin{\\left(q_{2} \\right)} + 1.5 \\sin{\\left(q_{1} \\right)} \\sin{\\left(q_{3} \\right)} \\cos{\\left(q_{2} \\right)}\\\\1.0 \\left(- \\sin{\\left(q_{2} \\right)} \\sin{\\left(q_{3} \\right)} \\cos{\\left(q_{1} \\right)} + \\cos{\\left(q_{1} \\right)} \\cos{\\left(q_{2} \\right)} \\cos{\\left(q_{3} \\right)}\\right) \\sin{\\left(q_{4} \\right)} + 1.0 \\sin{\\left(q_{1} \\right)} \\cos{\\left(q_{4} \\right)} & 1.0 \\left(- \\sin{\\left(q_{2} \\right)} \\sin{\\left(q_{3} \\right)} \\cos{\\left(q_{1} \\right)} + \\cos{\\left(q_{1} \\right)} \\cos{\\left(q_{2} \\right)} \\cos{\\left(q_{3} \\right)}\\right) \\cos{\\left(q_{4} \\right)} - 1.0 \\sin{\\left(q_{1} \\right)} \\sin{\\left(q_{4} \\right)} & - 1.0 \\sin{\\left(q_{2} \\right)} \\cos{\\left(q_{1} \\right)} \\cos{\\left(q_{3} \\right)} - 1.0 \\sin{\\left(q_{3} \\right)} \\cos{\\left(q_{1} \\right)} \\cos{\\left(q_{2} \\right)} & - 1.5 \\sin{\\left(q_{2} \\right)} \\cos{\\left(q_{1} \\right)} \\cos{\\left(q_{3} \\right)} - 1.0 \\sin{\\left(q_{2} \\right)} \\cos{\\left(q_{1} \\right)} - 1.5 \\sin{\\left(q_{3} \\right)} \\cos{\\left(q_{1} \\right)} \\cos{\\left(q_{2} \\right)}\\\\1.0 \\left(\\sin{\\left(q_{2} \\right)} \\cos{\\left(q_{3} \\right)} + \\sin{\\left(q_{3} \\right)} \\cos{\\left(q_{2} \\right)}\\right) \\sin{\\left(q_{4} \\right)} & 1.0 \\left(\\sin{\\left(q_{2} \\right)} \\cos{\\left(q_{3} \\right)} + \\sin{\\left(q_{3} \\right)} \\cos{\\left(q_{2} \\right)}\\right) \\cos{\\left(q_{4} \\right)} & - 1.0 \\sin{\\left(q_{2} \\right)} \\sin{\\left(q_{3} \\right)} + 1.0 \\cos{\\left(q_{2} \\right)} \\cos{\\left(q_{3} \\right)} & - 1.5 \\sin{\\left(q_{2} \\right)} \\sin{\\left(q_{3} \\right)} + 1.5 \\cos{\\left(q_{2} \\right)} \\cos{\\left(q_{3} \\right)} + 1.0 \\cos{\\left(q_{2} \\right)} + 1.0\\\\0 & 0 & 0 & 1.0\\end{matrix}\\right] & \\left[\\begin{matrix}1.0 \\left(\\left(\\sin{\\left(q_{1} \\right)} \\sin{\\left(q_{2} \\right)} \\sin{\\left(q_{3} \\right)} - \\sin{\\left(q_{1} \\right)} \\cos{\\left(q_{2} \\right)} \\cos{\\left(q_{3} \\right)}\\right) \\sin{\\left(q_{4} \\right)} + \\cos{\\left(q_{1} \\right)} \\cos{\\left(q_{4} \\right)}\\right) \\cos{\\left(q_{5} \\right)} - 1.0 \\left(\\sin{\\left(q_{1} \\right)} \\sin{\\left(q_{2} \\right)} \\cos{\\left(q_{3} \\right)} + \\sin{\\left(q_{1} \\right)} \\sin{\\left(q_{3} \\right)} \\cos{\\left(q_{2} \\right)}\\right) \\sin{\\left(q_{5} \\right)} & 1.0 \\left(\\sin{\\left(q_{1} \\right)} \\sin{\\left(q_{2} \\right)} \\sin{\\left(q_{3} \\right)} - \\sin{\\left(q_{1} \\right)} \\cos{\\left(q_{2} \\right)} \\cos{\\left(q_{3} \\right)}\\right) \\cos{\\left(q_{4} \\right)} - 1.0 \\sin{\\left(q_{4} \\right)} \\cos{\\left(q_{1} \\right)} & 1.0 \\left(\\left(\\sin{\\left(q_{1} \\right)} \\sin{\\left(q_{2} \\right)} \\sin{\\left(q_{3} \\right)} - \\sin{\\left(q_{1} \\right)} \\cos{\\left(q_{2} \\right)} \\cos{\\left(q_{3} \\right)}\\right) \\sin{\\left(q_{4} \\right)} + \\cos{\\left(q_{1} \\right)} \\cos{\\left(q_{4} \\right)}\\right) \\sin{\\left(q_{5} \\right)} + 1.0 \\left(\\sin{\\left(q_{1} \\right)} \\sin{\\left(q_{2} \\right)} \\cos{\\left(q_{3} \\right)} + \\sin{\\left(q_{1} \\right)} \\sin{\\left(q_{3} \\right)} \\cos{\\left(q_{2} \\right)}\\right) \\cos{\\left(q_{5} \\right)} & 0.5 \\left(\\left(\\sin{\\left(q_{1} \\right)} \\sin{\\left(q_{2} \\right)} \\sin{\\left(q_{3} \\right)} - \\sin{\\left(q_{1} \\right)} \\cos{\\left(q_{2} \\right)} \\cos{\\left(q_{3} \\right)}\\right) \\sin{\\left(q_{4} \\right)} + \\cos{\\left(q_{1} \\right)} \\cos{\\left(q_{4} \\right)}\\right) \\sin{\\left(q_{5} \\right)} + 0.5 \\left(\\sin{\\left(q_{1} \\right)} \\sin{\\left(q_{2} \\right)} \\cos{\\left(q_{3} \\right)} + \\sin{\\left(q_{1} \\right)} \\sin{\\left(q_{3} \\right)} \\cos{\\left(q_{2} \\right)}\\right) \\cos{\\left(q_{5} \\right)} + 2.0 \\sin{\\left(q_{1} \\right)} \\sin{\\left(q_{2} \\right)} \\cos{\\left(q_{3} \\right)} + 1.0 \\sin{\\left(q_{1} \\right)} \\sin{\\left(q_{2} \\right)} + 2.0 \\sin{\\left(q_{1} \\right)} \\sin{\\left(q_{3} \\right)} \\cos{\\left(q_{2} \\right)}\\\\1.0 \\left(\\left(- \\sin{\\left(q_{2} \\right)} \\sin{\\left(q_{3} \\right)} \\cos{\\left(q_{1} \\right)} + \\cos{\\left(q_{1} \\right)} \\cos{\\left(q_{2} \\right)} \\cos{\\left(q_{3} \\right)}\\right) \\sin{\\left(q_{4} \\right)} + \\sin{\\left(q_{1} \\right)} \\cos{\\left(q_{4} \\right)}\\right) \\cos{\\left(q_{5} \\right)} - 1.0 \\left(- \\sin{\\left(q_{2} \\right)} \\cos{\\left(q_{1} \\right)} \\cos{\\left(q_{3} \\right)} - \\sin{\\left(q_{3} \\right)} \\cos{\\left(q_{1} \\right)} \\cos{\\left(q_{2} \\right)}\\right) \\sin{\\left(q_{5} \\right)} & 1.0 \\left(- \\sin{\\left(q_{2} \\right)} \\sin{\\left(q_{3} \\right)} \\cos{\\left(q_{1} \\right)} + \\cos{\\left(q_{1} \\right)} \\cos{\\left(q_{2} \\right)} \\cos{\\left(q_{3} \\right)}\\right) \\cos{\\left(q_{4} \\right)} - 1.0 \\sin{\\left(q_{1} \\right)} \\sin{\\left(q_{4} \\right)} & 1.0 \\left(\\left(- \\sin{\\left(q_{2} \\right)} \\sin{\\left(q_{3} \\right)} \\cos{\\left(q_{1} \\right)} + \\cos{\\left(q_{1} \\right)} \\cos{\\left(q_{2} \\right)} \\cos{\\left(q_{3} \\right)}\\right) \\sin{\\left(q_{4} \\right)} + \\sin{\\left(q_{1} \\right)} \\cos{\\left(q_{4} \\right)}\\right) \\sin{\\left(q_{5} \\right)} + 1.0 \\left(- \\sin{\\left(q_{2} \\right)} \\cos{\\left(q_{1} \\right)} \\cos{\\left(q_{3} \\right)} - \\sin{\\left(q_{3} \\right)} \\cos{\\left(q_{1} \\right)} \\cos{\\left(q_{2} \\right)}\\right) \\cos{\\left(q_{5} \\right)} & 0.5 \\left(\\left(- \\sin{\\left(q_{2} \\right)} \\sin{\\left(q_{3} \\right)} \\cos{\\left(q_{1} \\right)} + \\cos{\\left(q_{1} \\right)} \\cos{\\left(q_{2} \\right)} \\cos{\\left(q_{3} \\right)}\\right) \\sin{\\left(q_{4} \\right)} + \\sin{\\left(q_{1} \\right)} \\cos{\\left(q_{4} \\right)}\\right) \\sin{\\left(q_{5} \\right)} + 0.5 \\left(- \\sin{\\left(q_{2} \\right)} \\cos{\\left(q_{1} \\right)} \\cos{\\left(q_{3} \\right)} - \\sin{\\left(q_{3} \\right)} \\cos{\\left(q_{1} \\right)} \\cos{\\left(q_{2} \\right)}\\right) \\cos{\\left(q_{5} \\right)} - 2.0 \\sin{\\left(q_{2} \\right)} \\cos{\\left(q_{1} \\right)} \\cos{\\left(q_{3} \\right)} - 1.0 \\sin{\\left(q_{2} \\right)} \\cos{\\left(q_{1} \\right)} - 2.0 \\sin{\\left(q_{3} \\right)} \\cos{\\left(q_{1} \\right)} \\cos{\\left(q_{2} \\right)}\\\\- 1.0 \\left(- \\sin{\\left(q_{2} \\right)} \\sin{\\left(q_{3} \\right)} + \\cos{\\left(q_{2} \\right)} \\cos{\\left(q_{3} \\right)}\\right) \\sin{\\left(q_{5} \\right)} + 1.0 \\left(\\sin{\\left(q_{2} \\right)} \\cos{\\left(q_{3} \\right)} + \\sin{\\left(q_{3} \\right)} \\cos{\\left(q_{2} \\right)}\\right) \\sin{\\left(q_{4} \\right)} \\cos{\\left(q_{5} \\right)} & 1.0 \\left(\\sin{\\left(q_{2} \\right)} \\cos{\\left(q_{3} \\right)} + \\sin{\\left(q_{3} \\right)} \\cos{\\left(q_{2} \\right)}\\right) \\cos{\\left(q_{4} \\right)} & 1.0 \\left(- \\sin{\\left(q_{2} \\right)} \\sin{\\left(q_{3} \\right)} + \\cos{\\left(q_{2} \\right)} \\cos{\\left(q_{3} \\right)}\\right) \\cos{\\left(q_{5} \\right)} + 1.0 \\left(\\sin{\\left(q_{2} \\right)} \\cos{\\left(q_{3} \\right)} + \\sin{\\left(q_{3} \\right)} \\cos{\\left(q_{2} \\right)}\\right) \\sin{\\left(q_{4} \\right)} \\sin{\\left(q_{5} \\right)} & 0.5 \\left(- \\sin{\\left(q_{2} \\right)} \\sin{\\left(q_{3} \\right)} + \\cos{\\left(q_{2} \\right)} \\cos{\\left(q_{3} \\right)}\\right) \\cos{\\left(q_{5} \\right)} + 0.5 \\left(\\sin{\\left(q_{2} \\right)} \\cos{\\left(q_{3} \\right)} + \\sin{\\left(q_{3} \\right)} \\cos{\\left(q_{2} \\right)}\\right) \\sin{\\left(q_{4} \\right)} \\sin{\\left(q_{5} \\right)} - 2.0 \\sin{\\left(q_{2} \\right)} \\sin{\\left(q_{3} \\right)} + 2.0 \\cos{\\left(q_{2} \\right)} \\cos{\\left(q_{3} \\right)} + 1.0 \\cos{\\left(q_{2} \\right)} + 1.0\\\\0 & 0 & 0 & 1.0\\end{matrix}\\right] & \\left[\\begin{matrix}1.0 \\left(\\left(\\left(\\sin{\\left(q_{1} \\right)} \\sin{\\left(q_{2} \\right)} \\sin{\\left(q_{3} \\right)} - \\sin{\\left(q_{1} \\right)} \\cos{\\left(q_{2} \\right)} \\cos{\\left(q_{3} \\right)}\\right) \\sin{\\left(q_{4} \\right)} + \\cos{\\left(q_{1} \\right)} \\cos{\\left(q_{4} \\right)}\\right) \\cos{\\left(q_{5} \\right)} - \\left(\\sin{\\left(q_{1} \\right)} \\sin{\\left(q_{2} \\right)} \\cos{\\left(q_{3} \\right)} + \\sin{\\left(q_{1} \\right)} \\sin{\\left(q_{3} \\right)} \\cos{\\left(q_{2} \\right)}\\right) \\sin{\\left(q_{5} \\right)}\\right) \\cos{\\left(q_{6} \\right)} + 1.0 \\left(\\left(\\sin{\\left(q_{1} \\right)} \\sin{\\left(q_{2} \\right)} \\sin{\\left(q_{3} \\right)} - \\sin{\\left(q_{1} \\right)} \\cos{\\left(q_{2} \\right)} \\cos{\\left(q_{3} \\right)}\\right) \\cos{\\left(q_{4} \\right)} - \\sin{\\left(q_{4} \\right)} \\cos{\\left(q_{1} \\right)}\\right) \\sin{\\left(q_{6} \\right)} & - 1.0 \\left(\\left(\\left(\\sin{\\left(q_{1} \\right)} \\sin{\\left(q_{2} \\right)} \\sin{\\left(q_{3} \\right)} - \\sin{\\left(q_{1} \\right)} \\cos{\\left(q_{2} \\right)} \\cos{\\left(q_{3} \\right)}\\right) \\sin{\\left(q_{4} \\right)} + \\cos{\\left(q_{1} \\right)} \\cos{\\left(q_{4} \\right)}\\right) \\cos{\\left(q_{5} \\right)} - \\left(\\sin{\\left(q_{1} \\right)} \\sin{\\left(q_{2} \\right)} \\cos{\\left(q_{3} \\right)} + \\sin{\\left(q_{1} \\right)} \\sin{\\left(q_{3} \\right)} \\cos{\\left(q_{2} \\right)}\\right) \\sin{\\left(q_{5} \\right)}\\right) \\sin{\\left(q_{6} \\right)} + 1.0 \\left(\\left(\\sin{\\left(q_{1} \\right)} \\sin{\\left(q_{2} \\right)} \\sin{\\left(q_{3} \\right)} - \\sin{\\left(q_{1} \\right)} \\cos{\\left(q_{2} \\right)} \\cos{\\left(q_{3} \\right)}\\right) \\cos{\\left(q_{4} \\right)} - \\sin{\\left(q_{4} \\right)} \\cos{\\left(q_{1} \\right)}\\right) \\cos{\\left(q_{6} \\right)} & 1.0 \\left(\\left(\\sin{\\left(q_{1} \\right)} \\sin{\\left(q_{2} \\right)} \\sin{\\left(q_{3} \\right)} - \\sin{\\left(q_{1} \\right)} \\cos{\\left(q_{2} \\right)} \\cos{\\left(q_{3} \\right)}\\right) \\sin{\\left(q_{4} \\right)} + \\cos{\\left(q_{1} \\right)} \\cos{\\left(q_{4} \\right)}\\right) \\sin{\\left(q_{5} \\right)} + 1.0 \\left(\\sin{\\left(q_{1} \\right)} \\sin{\\left(q_{2} \\right)} \\cos{\\left(q_{3} \\right)} + \\sin{\\left(q_{1} \\right)} \\sin{\\left(q_{3} \\right)} \\cos{\\left(q_{2} \\right)}\\right) \\cos{\\left(q_{5} \\right)} & 1.5 \\left(\\left(\\sin{\\left(q_{1} \\right)} \\sin{\\left(q_{2} \\right)} \\sin{\\left(q_{3} \\right)} - \\sin{\\left(q_{1} \\right)} \\cos{\\left(q_{2} \\right)} \\cos{\\left(q_{3} \\right)}\\right) \\sin{\\left(q_{4} \\right)} + \\cos{\\left(q_{1} \\right)} \\cos{\\left(q_{4} \\right)}\\right) \\sin{\\left(q_{5} \\right)} + 1.5 \\left(\\sin{\\left(q_{1} \\right)} \\sin{\\left(q_{2} \\right)} \\cos{\\left(q_{3} \\right)} + \\sin{\\left(q_{1} \\right)} \\sin{\\left(q_{3} \\right)} \\cos{\\left(q_{2} \\right)}\\right) \\cos{\\left(q_{5} \\right)} + 2.0 \\sin{\\left(q_{1} \\right)} \\sin{\\left(q_{2} \\right)} \\cos{\\left(q_{3} \\right)} + 1.0 \\sin{\\left(q_{1} \\right)} \\sin{\\left(q_{2} \\right)} + 2.0 \\sin{\\left(q_{1} \\right)} \\sin{\\left(q_{3} \\right)} \\cos{\\left(q_{2} \\right)}\\\\1.0 \\left(\\left(\\left(- \\sin{\\left(q_{2} \\right)} \\sin{\\left(q_{3} \\right)} \\cos{\\left(q_{1} \\right)} + \\cos{\\left(q_{1} \\right)} \\cos{\\left(q_{2} \\right)} \\cos{\\left(q_{3} \\right)}\\right) \\sin{\\left(q_{4} \\right)} + \\sin{\\left(q_{1} \\right)} \\cos{\\left(q_{4} \\right)}\\right) \\cos{\\left(q_{5} \\right)} - \\left(- \\sin{\\left(q_{2} \\right)} \\cos{\\left(q_{1} \\right)} \\cos{\\left(q_{3} \\right)} - \\sin{\\left(q_{3} \\right)} \\cos{\\left(q_{1} \\right)} \\cos{\\left(q_{2} \\right)}\\right) \\sin{\\left(q_{5} \\right)}\\right) \\cos{\\left(q_{6} \\right)} + 1.0 \\left(\\left(- \\sin{\\left(q_{2} \\right)} \\sin{\\left(q_{3} \\right)} \\cos{\\left(q_{1} \\right)} + \\cos{\\left(q_{1} \\right)} \\cos{\\left(q_{2} \\right)} \\cos{\\left(q_{3} \\right)}\\right) \\cos{\\left(q_{4} \\right)} - \\sin{\\left(q_{1} \\right)} \\sin{\\left(q_{4} \\right)}\\right) \\sin{\\left(q_{6} \\right)} & - 1.0 \\left(\\left(\\left(- \\sin{\\left(q_{2} \\right)} \\sin{\\left(q_{3} \\right)} \\cos{\\left(q_{1} \\right)} + \\cos{\\left(q_{1} \\right)} \\cos{\\left(q_{2} \\right)} \\cos{\\left(q_{3} \\right)}\\right) \\sin{\\left(q_{4} \\right)} + \\sin{\\left(q_{1} \\right)} \\cos{\\left(q_{4} \\right)}\\right) \\cos{\\left(q_{5} \\right)} - \\left(- \\sin{\\left(q_{2} \\right)} \\cos{\\left(q_{1} \\right)} \\cos{\\left(q_{3} \\right)} - \\sin{\\left(q_{3} \\right)} \\cos{\\left(q_{1} \\right)} \\cos{\\left(q_{2} \\right)}\\right) \\sin{\\left(q_{5} \\right)}\\right) \\sin{\\left(q_{6} \\right)} + 1.0 \\left(\\left(- \\sin{\\left(q_{2} \\right)} \\sin{\\left(q_{3} \\right)} \\cos{\\left(q_{1} \\right)} + \\cos{\\left(q_{1} \\right)} \\cos{\\left(q_{2} \\right)} \\cos{\\left(q_{3} \\right)}\\right) \\cos{\\left(q_{4} \\right)} - \\sin{\\left(q_{1} \\right)} \\sin{\\left(q_{4} \\right)}\\right) \\cos{\\left(q_{6} \\right)} & 1.0 \\left(\\left(- \\sin{\\left(q_{2} \\right)} \\sin{\\left(q_{3} \\right)} \\cos{\\left(q_{1} \\right)} + \\cos{\\left(q_{1} \\right)} \\cos{\\left(q_{2} \\right)} \\cos{\\left(q_{3} \\right)}\\right) \\sin{\\left(q_{4} \\right)} + \\sin{\\left(q_{1} \\right)} \\cos{\\left(q_{4} \\right)}\\right) \\sin{\\left(q_{5} \\right)} + 1.0 \\left(- \\sin{\\left(q_{2} \\right)} \\cos{\\left(q_{1} \\right)} \\cos{\\left(q_{3} \\right)} - \\sin{\\left(q_{3} \\right)} \\cos{\\left(q_{1} \\right)} \\cos{\\left(q_{2} \\right)}\\right) \\cos{\\left(q_{5} \\right)} & 1.5 \\left(\\left(- \\sin{\\left(q_{2} \\right)} \\sin{\\left(q_{3} \\right)} \\cos{\\left(q_{1} \\right)} + \\cos{\\left(q_{1} \\right)} \\cos{\\left(q_{2} \\right)} \\cos{\\left(q_{3} \\right)}\\right) \\sin{\\left(q_{4} \\right)} + \\sin{\\left(q_{1} \\right)} \\cos{\\left(q_{4} \\right)}\\right) \\sin{\\left(q_{5} \\right)} + 1.5 \\left(- \\sin{\\left(q_{2} \\right)} \\cos{\\left(q_{1} \\right)} \\cos{\\left(q_{3} \\right)} - \\sin{\\left(q_{3} \\right)} \\cos{\\left(q_{1} \\right)} \\cos{\\left(q_{2} \\right)}\\right) \\cos{\\left(q_{5} \\right)} - 2.0 \\sin{\\left(q_{2} \\right)} \\cos{\\left(q_{1} \\right)} \\cos{\\left(q_{3} \\right)} - 1.0 \\sin{\\left(q_{2} \\right)} \\cos{\\left(q_{1} \\right)} - 2.0 \\sin{\\left(q_{3} \\right)} \\cos{\\left(q_{1} \\right)} \\cos{\\left(q_{2} \\right)}\\\\1.0 \\left(- \\left(- \\sin{\\left(q_{2} \\right)} \\sin{\\left(q_{3} \\right)} + \\cos{\\left(q_{2} \\right)} \\cos{\\left(q_{3} \\right)}\\right) \\sin{\\left(q_{5} \\right)} + \\left(\\sin{\\left(q_{2} \\right)} \\cos{\\left(q_{3} \\right)} + \\sin{\\left(q_{3} \\right)} \\cos{\\left(q_{2} \\right)}\\right) \\sin{\\left(q_{4} \\right)} \\cos{\\left(q_{5} \\right)}\\right) \\cos{\\left(q_{6} \\right)} + 1.0 \\left(\\sin{\\left(q_{2} \\right)} \\cos{\\left(q_{3} \\right)} + \\sin{\\left(q_{3} \\right)} \\cos{\\left(q_{2} \\right)}\\right) \\sin{\\left(q_{6} \\right)} \\cos{\\left(q_{4} \\right)} & - 1.0 \\left(- \\left(- \\sin{\\left(q_{2} \\right)} \\sin{\\left(q_{3} \\right)} + \\cos{\\left(q_{2} \\right)} \\cos{\\left(q_{3} \\right)}\\right) \\sin{\\left(q_{5} \\right)} + \\left(\\sin{\\left(q_{2} \\right)} \\cos{\\left(q_{3} \\right)} + \\sin{\\left(q_{3} \\right)} \\cos{\\left(q_{2} \\right)}\\right) \\sin{\\left(q_{4} \\right)} \\cos{\\left(q_{5} \\right)}\\right) \\sin{\\left(q_{6} \\right)} + 1.0 \\left(\\sin{\\left(q_{2} \\right)} \\cos{\\left(q_{3} \\right)} + \\sin{\\left(q_{3} \\right)} \\cos{\\left(q_{2} \\right)}\\right) \\cos{\\left(q_{4} \\right)} \\cos{\\left(q_{6} \\right)} & 1.0 \\left(- \\sin{\\left(q_{2} \\right)} \\sin{\\left(q_{3} \\right)} + \\cos{\\left(q_{2} \\right)} \\cos{\\left(q_{3} \\right)}\\right) \\cos{\\left(q_{5} \\right)} + 1.0 \\left(\\sin{\\left(q_{2} \\right)} \\cos{\\left(q_{3} \\right)} + \\sin{\\left(q_{3} \\right)} \\cos{\\left(q_{2} \\right)}\\right) \\sin{\\left(q_{4} \\right)} \\sin{\\left(q_{5} \\right)} & 1.5 \\left(- \\sin{\\left(q_{2} \\right)} \\sin{\\left(q_{3} \\right)} + \\cos{\\left(q_{2} \\right)} \\cos{\\left(q_{3} \\right)}\\right) \\cos{\\left(q_{5} \\right)} + 1.5 \\left(\\sin{\\left(q_{2} \\right)} \\cos{\\left(q_{3} \\right)} + \\sin{\\left(q_{3} \\right)} \\cos{\\left(q_{2} \\right)}\\right) \\sin{\\left(q_{4} \\right)} \\sin{\\left(q_{5} \\right)} - 2.0 \\sin{\\left(q_{2} \\right)} \\sin{\\left(q_{3} \\right)} + 2.0 \\cos{\\left(q_{2} \\right)} \\cos{\\left(q_{3} \\right)} + 1.0 \\cos{\\left(q_{2} \\right)} + 1.0\\\\0 & 0 & 0 & 1.0\\end{matrix}\\right]\\end{matrix}\\right]$",
            "text/plain": [
              "[[[1.0*cos(q1), -1.0*sin(q1), 0, 0], [1.0*sin(q1), 1.0*cos(q1), 0, 0], [0.0, 0.0, 1.0, 0.5], [0.0, 0.0, 0.0, 1.0]], [[1.0*cos(q1), -1.0*sin(q1)*cos(q2), 1.0*sin(q1)*sin(q2), 0.5*sin(q1)*sin(q2)], [1.0*sin(q1), 1.0*cos(q1)*cos(q2), -1.0*sin(q2)*cos(q1), -0.5*sin(q2)*cos(q1)], [0, 1.0*sin(q2), 1.0*cos(q2), 0.5*cos(q2) + 1.0], [0, 0, 0, 1.0]], [[1.0*cos(q1), 1.0*sin(q1)*sin(q2)*sin(q3) - 1.0*sin(q1)*cos(q2)*cos(q3), 1.0*sin(q1)*sin(q2)*cos(q3) + 1.0*sin(q1)*sin(q3)*cos(q2), 0.5*sin(q1)*sin(q2)*cos(q3) + 1.0*sin(q1)*sin(q2) + 0.5*sin(q1)*sin(q3)*cos(q2)], [1.0*sin(q1), -1.0*sin(q2)*sin(q3)*cos(q1) + 1.0*cos(q1)*cos(q2)*cos(q3), -1.0*sin(q2)*cos(q1)*cos(q3) - 1.0*sin(q3)*cos(q1)*cos(q2), -0.5*sin(q2)*cos(q1)*cos(q3) - 1.0*sin(q2)*cos(q1) - 0.5*sin(q3)*cos(q1)*cos(q2)], [0, 1.0*sin(q2)*cos(q3) + 1.0*sin(q3)*cos(q2), -1.0*sin(q2)*sin(q3) + 1.0*cos(q2)*cos(q3), -0.5*sin(q2)*sin(q3) + 0.5*cos(q2)*cos(q3) + 1.0*cos(q2) + 1.0], [0, 0, 0, 1.0]], [[1.0*(sin(q1)*sin(q2)*sin(q3) - sin(q1)*cos(q2)*cos(q3))*sin(q4) + 1.0*cos(q1)*cos(q4), 1.0*(sin(q1)*sin(q2)*sin(q3) - sin(q1)*cos(q2)*cos(q3))*cos(q4) - 1.0*sin(q4)*cos(q1), 1.0*sin(q1)*sin(q2)*cos(q3) + 1.0*sin(q1)*sin(q3)*cos(q2), 1.5*sin(q1)*sin(q2)*cos(q3) + 1.0*sin(q1)*sin(q2) + 1.5*sin(q1)*sin(q3)*cos(q2)], [1.0*(-sin(q2)*sin(q3)*cos(q1) + cos(q1)*cos(q2)*cos(q3))*sin(q4) + 1.0*sin(q1)*cos(q4), 1.0*(-sin(q2)*sin(q3)*cos(q1) + cos(q1)*cos(q2)*cos(q3))*cos(q4) - 1.0*sin(q1)*sin(q4), -1.0*sin(q2)*cos(q1)*cos(q3) - 1.0*sin(q3)*cos(q1)*cos(q2), -1.5*sin(q2)*cos(q1)*cos(q3) - 1.0*sin(q2)*cos(q1) - 1.5*sin(q3)*cos(q1)*cos(q2)], [1.0*(sin(q2)*cos(q3) + sin(q3)*cos(q2))*sin(q4), 1.0*(sin(q2)*cos(q3) + sin(q3)*cos(q2))*cos(q4), -1.0*sin(q2)*sin(q3) + 1.0*cos(q2)*cos(q3), -1.5*sin(q2)*sin(q3) + 1.5*cos(q2)*cos(q3) + 1.0*cos(q2) + 1.0], [0, 0, 0, 1.0]], [[1.0*((sin(q1)*sin(q2)*sin(q3) - sin(q1)*cos(q2)*cos(q3))*sin(q4) + cos(q1)*cos(q4))*cos(q5) - 1.0*(sin(q1)*sin(q2)*cos(q3) + sin(q1)*sin(q3)*cos(q2))*sin(q5), 1.0*(sin(q1)*sin(q2)*sin(q3) - sin(q1)*cos(q2)*cos(q3))*cos(q4) - 1.0*sin(q4)*cos(q1), 1.0*((sin(q1)*sin(q2)*sin(q3) - sin(q1)*cos(q2)*cos(q3))*sin(q4) + cos(q1)*cos(q4))*sin(q5) + 1.0*(sin(q1)*sin(q2)*cos(q3) + sin(q1)*sin(q3)*cos(q2))*cos(q5), 0.5*((sin(q1)*sin(q2)*sin(q3) - sin(q1)*cos(q2)*cos(q3))*sin(q4) + cos(q1)*cos(q4))*sin(q5) + 0.5*(sin(q1)*sin(q2)*cos(q3) + sin(q1)*sin(q3)*cos(q2))*cos(q5) + 2.0*sin(q1)*sin(q2)*cos(q3) + 1.0*sin(q1)*sin(q2) + 2.0*sin(q1)*sin(q3)*cos(q2)], [1.0*((-sin(q2)*sin(q3)*cos(q1) + cos(q1)*cos(q2)*cos(q3))*sin(q4) + sin(q1)*cos(q4))*cos(q5) - 1.0*(-sin(q2)*cos(q1)*cos(q3) - sin(q3)*cos(q1)*cos(q2))*sin(q5), 1.0*(-sin(q2)*sin(q3)*cos(q1) + cos(q1)*cos(q2)*cos(q3))*cos(q4) - 1.0*sin(q1)*sin(q4), 1.0*((-sin(q2)*sin(q3)*cos(q1) + cos(q1)*cos(q2)*cos(q3))*sin(q4) + sin(q1)*cos(q4))*sin(q5) + 1.0*(-sin(q2)*cos(q1)*cos(q3) - sin(q3)*cos(q1)*cos(q2))*cos(q5), 0.5*((-sin(q2)*sin(q3)*cos(q1) + cos(q1)*cos(q2)*cos(q3))*sin(q4) + sin(q1)*cos(q4))*sin(q5) + 0.5*(-sin(q2)*cos(q1)*cos(q3) - sin(q3)*cos(q1)*cos(q2))*cos(q5) - 2.0*sin(q2)*cos(q1)*cos(q3) - 1.0*sin(q2)*cos(q1) - 2.0*sin(q3)*cos(q1)*cos(q2)], [-1.0*(-sin(q2)*sin(q3) + cos(q2)*cos(q3))*sin(q5) + 1.0*(sin(q2)*cos(q3) + sin(q3)*cos(q2))*sin(q4)*cos(q5), 1.0*(sin(q2)*cos(q3) + sin(q3)*cos(q2))*cos(q4), 1.0*(-sin(q2)*sin(q3) + cos(q2)*cos(q3))*cos(q5) + 1.0*(sin(q2)*cos(q3) + sin(q3)*cos(q2))*sin(q4)*sin(q5), 0.5*(-sin(q2)*sin(q3) + cos(q2)*cos(q3))*cos(q5) + 0.5*(sin(q2)*cos(q3) + sin(q3)*cos(q2))*sin(q4)*sin(q5) - 2.0*sin(q2)*sin(q3) + 2.0*cos(q2)*cos(q3) + 1.0*cos(q2) + 1.0], [0, 0, 0, 1.0]], [[1.0*(((sin(q1)*sin(q2)*sin(q3) - sin(q1)*cos(q2)*cos(q3))*sin(q4) + cos(q1)*cos(q4))*cos(q5) - (sin(q1)*sin(q2)*cos(q3) + sin(q1)*sin(q3)*cos(q2))*sin(q5))*cos(q6) + 1.0*((sin(q1)*sin(q2)*sin(q3) - sin(q1)*cos(q2)*cos(q3))*cos(q4) - sin(q4)*cos(q1))*sin(q6), -1.0*(((sin(q1)*sin(q2)*sin(q3) - sin(q1)*cos(q2)*cos(q3))*sin(q4) + cos(q1)*cos(q4))*cos(q5) - (sin(q1)*sin(q2)*cos(q3) + sin(q1)*sin(q3)*cos(q2))*sin(q5))*sin(q6) + 1.0*((sin(q1)*sin(q2)*sin(q3) - sin(q1)*cos(q2)*cos(q3))*cos(q4) - sin(q4)*cos(q1))*cos(q6), 1.0*((sin(q1)*sin(q2)*sin(q3) - sin(q1)*cos(q2)*cos(q3))*sin(q4) + cos(q1)*cos(q4))*sin(q5) + 1.0*(sin(q1)*sin(q2)*cos(q3) + sin(q1)*sin(q3)*cos(q2))*cos(q5), 1.5*((sin(q1)*sin(q2)*sin(q3) - sin(q1)*cos(q2)*cos(q3))*sin(q4) + cos(q1)*cos(q4))*sin(q5) + 1.5*(sin(q1)*sin(q2)*cos(q3) + sin(q1)*sin(q3)*cos(q2))*cos(q5) + 2.0*sin(q1)*sin(q2)*cos(q3) + 1.0*sin(q1)*sin(q2) + 2.0*sin(q1)*sin(q3)*cos(q2)], [1.0*(((-sin(q2)*sin(q3)*cos(q1) + cos(q1)*cos(q2)*cos(q3))*sin(q4) + sin(q1)*cos(q4))*cos(q5) - (-sin(q2)*cos(q1)*cos(q3) - sin(q3)*cos(q1)*cos(q2))*sin(q5))*cos(q6) + 1.0*((-sin(q2)*sin(q3)*cos(q1) + cos(q1)*cos(q2)*cos(q3))*cos(q4) - sin(q1)*sin(q4))*sin(q6), -1.0*(((-sin(q2)*sin(q3)*cos(q1) + cos(q1)*cos(q2)*cos(q3))*sin(q4) + sin(q1)*cos(q4))*cos(q5) - (-sin(q2)*cos(q1)*cos(q3) - sin(q3)*cos(q1)*cos(q2))*sin(q5))*sin(q6) + 1.0*((-sin(q2)*sin(q3)*cos(q1) + cos(q1)*cos(q2)*cos(q3))*cos(q4) - sin(q1)*sin(q4))*cos(q6), 1.0*((-sin(q2)*sin(q3)*cos(q1) + cos(q1)*cos(q2)*cos(q3))*sin(q4) + sin(q1)*cos(q4))*sin(q5) + 1.0*(-sin(q2)*cos(q1)*cos(q3) - sin(q3)*cos(q1)*cos(q2))*cos(q5), 1.5*((-sin(q2)*sin(q3)*cos(q1) + cos(q1)*cos(q2)*cos(q3))*sin(q4) + sin(q1)*cos(q4))*sin(q5) + 1.5*(-sin(q2)*cos(q1)*cos(q3) - sin(q3)*cos(q1)*cos(q2))*cos(q5) - 2.0*sin(q2)*cos(q1)*cos(q3) - 1.0*sin(q2)*cos(q1) - 2.0*sin(q3)*cos(q1)*cos(q2)], [1.0*(-(-sin(q2)*sin(q3) + cos(q2)*cos(q3))*sin(q5) + (sin(q2)*cos(q3) + sin(q3)*cos(q2))*sin(q4)*cos(q5))*cos(q6) + 1.0*(sin(q2)*cos(q3) + sin(q3)*cos(q2))*sin(q6)*cos(q4), -1.0*(-(-sin(q2)*sin(q3) + cos(q2)*cos(q3))*sin(q5) + (sin(q2)*cos(q3) + sin(q3)*cos(q2))*sin(q4)*cos(q5))*sin(q6) + 1.0*(sin(q2)*cos(q3) + sin(q3)*cos(q2))*cos(q4)*cos(q6), 1.0*(-sin(q2)*sin(q3) + cos(q2)*cos(q3))*cos(q5) + 1.0*(sin(q2)*cos(q3) + sin(q3)*cos(q2))*sin(q4)*sin(q5), 1.5*(-sin(q2)*sin(q3) + cos(q2)*cos(q3))*cos(q5) + 1.5*(sin(q2)*cos(q3) + sin(q3)*cos(q2))*sin(q4)*sin(q5) - 2.0*sin(q2)*sin(q3) + 2.0*cos(q2)*cos(q3) + 1.0*cos(q2) + 1.0], [0, 0, 0, 1.0]]]"
            ]
          },
          "metadata": {},
          "execution_count": 3
        }
      ]
    },
    {
      "cell_type": "markdown",
      "source": [
        "## **Jacobian Matrices**\n",
        "The Jacobian matrix for **linear velocity** $(3,n)$:\n",
        "$$\n",
        "J^i_v = \\left(\n",
        "\\begin{array}{cccc}\n",
        "\\frac{δx_i}{δq_1}  & \\frac{δx_i}{δq_2} & ... & \\frac{δx_i}{δq_n}\\\\ \n",
        "\\frac{δy_i}{δq_1}  & \\frac{δy_i}{δq_2} & ... & \\frac{δy_i}{δq_n}\\\\\n",
        "\\frac{δz_i}{δq_1}  & \\frac{δz_i}{δq_2} & ... & \\frac{δz_i}{δq_n}\n",
        "\\end{array}\n",
        "\\right)\n",
        "$$"
      ],
      "metadata": {
        "id": "B7hcAGwYaIRF"
      }
    },
    {
      "cell_type": "code",
      "source": [
        "Jv = np.zeros((6,3,6), dtype=np.object)\n",
        "for n in range(6):\n",
        "  for i in range(3):\n",
        "    for j in range(6):\n",
        "      Jv[n, i, j] = sp.diff(com[n, i, 3], q[j]) \n",
        "\n",
        "sp.Array(Jv)"
      ],
      "metadata": {
        "colab": {
          "base_uri": "https://localhost:8080/",
          "height": 99
        },
        "id": "0ZrWuyaANqZP",
        "outputId": "2ff54052-0b78-4db2-8e84-f272d40b29cd"
      },
      "execution_count": null,
      "outputs": [
        {
          "output_type": "execute_result",
          "data": {
            "text/latex": "$\\displaystyle \\left[\\begin{matrix}\\left[\\begin{matrix}0 & 0 & 0 & 0 & 0 & 0\\\\0 & 0 & 0 & 0 & 0 & 0\\\\0 & 0 & 0 & 0 & 0 & 0\\end{matrix}\\right] & \\left[\\begin{matrix}0.5 \\sin{\\left(q_{2} \\right)} \\cos{\\left(q_{1} \\right)} & 0.5 \\sin{\\left(q_{1} \\right)} \\cos{\\left(q_{2} \\right)} & 0 & 0 & 0 & 0\\\\0.5 \\sin{\\left(q_{1} \\right)} \\sin{\\left(q_{2} \\right)} & - 0.5 \\cos{\\left(q_{1} \\right)} \\cos{\\left(q_{2} \\right)} & 0 & 0 & 0 & 0\\\\0 & - 0.5 \\sin{\\left(q_{2} \\right)} & 0 & 0 & 0 & 0\\end{matrix}\\right] & \\left[\\begin{matrix}0.5 \\sin{\\left(q_{2} \\right)} \\cos{\\left(q_{1} \\right)} \\cos{\\left(q_{3} \\right)} + 1.0 \\sin{\\left(q_{2} \\right)} \\cos{\\left(q_{1} \\right)} + 0.5 \\sin{\\left(q_{3} \\right)} \\cos{\\left(q_{1} \\right)} \\cos{\\left(q_{2} \\right)} & - 0.5 \\sin{\\left(q_{1} \\right)} \\sin{\\left(q_{2} \\right)} \\sin{\\left(q_{3} \\right)} + 0.5 \\sin{\\left(q_{1} \\right)} \\cos{\\left(q_{2} \\right)} \\cos{\\left(q_{3} \\right)} + 1.0 \\sin{\\left(q_{1} \\right)} \\cos{\\left(q_{2} \\right)} & - 0.5 \\sin{\\left(q_{1} \\right)} \\sin{\\left(q_{2} \\right)} \\sin{\\left(q_{3} \\right)} + 0.5 \\sin{\\left(q_{1} \\right)} \\cos{\\left(q_{2} \\right)} \\cos{\\left(q_{3} \\right)} & 0 & 0 & 0\\\\0.5 \\sin{\\left(q_{1} \\right)} \\sin{\\left(q_{2} \\right)} \\cos{\\left(q_{3} \\right)} + 1.0 \\sin{\\left(q_{1} \\right)} \\sin{\\left(q_{2} \\right)} + 0.5 \\sin{\\left(q_{1} \\right)} \\sin{\\left(q_{3} \\right)} \\cos{\\left(q_{2} \\right)} & 0.5 \\sin{\\left(q_{2} \\right)} \\sin{\\left(q_{3} \\right)} \\cos{\\left(q_{1} \\right)} - 0.5 \\cos{\\left(q_{1} \\right)} \\cos{\\left(q_{2} \\right)} \\cos{\\left(q_{3} \\right)} - 1.0 \\cos{\\left(q_{1} \\right)} \\cos{\\left(q_{2} \\right)} & 0.5 \\sin{\\left(q_{2} \\right)} \\sin{\\left(q_{3} \\right)} \\cos{\\left(q_{1} \\right)} - 0.5 \\cos{\\left(q_{1} \\right)} \\cos{\\left(q_{2} \\right)} \\cos{\\left(q_{3} \\right)} & 0 & 0 & 0\\\\0 & - 0.5 \\sin{\\left(q_{2} \\right)} \\cos{\\left(q_{3} \\right)} - 1.0 \\sin{\\left(q_{2} \\right)} - 0.5 \\sin{\\left(q_{3} \\right)} \\cos{\\left(q_{2} \\right)} & - 0.5 \\sin{\\left(q_{2} \\right)} \\cos{\\left(q_{3} \\right)} - 0.5 \\sin{\\left(q_{3} \\right)} \\cos{\\left(q_{2} \\right)} & 0 & 0 & 0\\end{matrix}\\right] & \\left[\\begin{matrix}1.5 \\sin{\\left(q_{2} \\right)} \\cos{\\left(q_{1} \\right)} \\cos{\\left(q_{3} \\right)} + 1.0 \\sin{\\left(q_{2} \\right)} \\cos{\\left(q_{1} \\right)} + 1.5 \\sin{\\left(q_{3} \\right)} \\cos{\\left(q_{1} \\right)} \\cos{\\left(q_{2} \\right)} & - 1.5 \\sin{\\left(q_{1} \\right)} \\sin{\\left(q_{2} \\right)} \\sin{\\left(q_{3} \\right)} + 1.5 \\sin{\\left(q_{1} \\right)} \\cos{\\left(q_{2} \\right)} \\cos{\\left(q_{3} \\right)} + 1.0 \\sin{\\left(q_{1} \\right)} \\cos{\\left(q_{2} \\right)} & - 1.5 \\sin{\\left(q_{1} \\right)} \\sin{\\left(q_{2} \\right)} \\sin{\\left(q_{3} \\right)} + 1.5 \\sin{\\left(q_{1} \\right)} \\cos{\\left(q_{2} \\right)} \\cos{\\left(q_{3} \\right)} & 0 & 0 & 0\\\\1.5 \\sin{\\left(q_{1} \\right)} \\sin{\\left(q_{2} \\right)} \\cos{\\left(q_{3} \\right)} + 1.0 \\sin{\\left(q_{1} \\right)} \\sin{\\left(q_{2} \\right)} + 1.5 \\sin{\\left(q_{1} \\right)} \\sin{\\left(q_{3} \\right)} \\cos{\\left(q_{2} \\right)} & 1.5 \\sin{\\left(q_{2} \\right)} \\sin{\\left(q_{3} \\right)} \\cos{\\left(q_{1} \\right)} - 1.5 \\cos{\\left(q_{1} \\right)} \\cos{\\left(q_{2} \\right)} \\cos{\\left(q_{3} \\right)} - 1.0 \\cos{\\left(q_{1} \\right)} \\cos{\\left(q_{2} \\right)} & 1.5 \\sin{\\left(q_{2} \\right)} \\sin{\\left(q_{3} \\right)} \\cos{\\left(q_{1} \\right)} - 1.5 \\cos{\\left(q_{1} \\right)} \\cos{\\left(q_{2} \\right)} \\cos{\\left(q_{3} \\right)} & 0 & 0 & 0\\\\0 & - 1.5 \\sin{\\left(q_{2} \\right)} \\cos{\\left(q_{3} \\right)} - 1.0 \\sin{\\left(q_{2} \\right)} - 1.5 \\sin{\\left(q_{3} \\right)} \\cos{\\left(q_{2} \\right)} & - 1.5 \\sin{\\left(q_{2} \\right)} \\cos{\\left(q_{3} \\right)} - 1.5 \\sin{\\left(q_{3} \\right)} \\cos{\\left(q_{2} \\right)} & 0 & 0 & 0\\end{matrix}\\right] & \\left[\\begin{matrix}\\left(0.5 \\left(\\sin{\\left(q_{2} \\right)} \\sin{\\left(q_{3} \\right)} \\cos{\\left(q_{1} \\right)} - \\cos{\\left(q_{1} \\right)} \\cos{\\left(q_{2} \\right)} \\cos{\\left(q_{3} \\right)}\\right) \\sin{\\left(q_{4} \\right)} - 0.5 \\sin{\\left(q_{1} \\right)} \\cos{\\left(q_{4} \\right)}\\right) \\sin{\\left(q_{5} \\right)} + \\left(0.5 \\sin{\\left(q_{2} \\right)} \\cos{\\left(q_{1} \\right)} \\cos{\\left(q_{3} \\right)} + 0.5 \\sin{\\left(q_{3} \\right)} \\cos{\\left(q_{1} \\right)} \\cos{\\left(q_{2} \\right)}\\right) \\cos{\\left(q_{5} \\right)} + 2.0 \\sin{\\left(q_{2} \\right)} \\cos{\\left(q_{1} \\right)} \\cos{\\left(q_{3} \\right)} + 1.0 \\sin{\\left(q_{2} \\right)} \\cos{\\left(q_{1} \\right)} + 2.0 \\sin{\\left(q_{3} \\right)} \\cos{\\left(q_{1} \\right)} \\cos{\\left(q_{2} \\right)} & \\left(- 0.5 \\sin{\\left(q_{1} \\right)} \\sin{\\left(q_{2} \\right)} \\sin{\\left(q_{3} \\right)} + 0.5 \\sin{\\left(q_{1} \\right)} \\cos{\\left(q_{2} \\right)} \\cos{\\left(q_{3} \\right)}\\right) \\cos{\\left(q_{5} \\right)} + 0.5 \\left(\\sin{\\left(q_{1} \\right)} \\sin{\\left(q_{2} \\right)} \\cos{\\left(q_{3} \\right)} + \\sin{\\left(q_{1} \\right)} \\sin{\\left(q_{3} \\right)} \\cos{\\left(q_{2} \\right)}\\right) \\sin{\\left(q_{4} \\right)} \\sin{\\left(q_{5} \\right)} - 2.0 \\sin{\\left(q_{1} \\right)} \\sin{\\left(q_{2} \\right)} \\sin{\\left(q_{3} \\right)} + 2.0 \\sin{\\left(q_{1} \\right)} \\cos{\\left(q_{2} \\right)} \\cos{\\left(q_{3} \\right)} + 1.0 \\sin{\\left(q_{1} \\right)} \\cos{\\left(q_{2} \\right)} & \\left(- 0.5 \\sin{\\left(q_{1} \\right)} \\sin{\\left(q_{2} \\right)} \\sin{\\left(q_{3} \\right)} + 0.5 \\sin{\\left(q_{1} \\right)} \\cos{\\left(q_{2} \\right)} \\cos{\\left(q_{3} \\right)}\\right) \\cos{\\left(q_{5} \\right)} + 0.5 \\left(\\sin{\\left(q_{1} \\right)} \\sin{\\left(q_{2} \\right)} \\cos{\\left(q_{3} \\right)} + \\sin{\\left(q_{1} \\right)} \\sin{\\left(q_{3} \\right)} \\cos{\\left(q_{2} \\right)}\\right) \\sin{\\left(q_{4} \\right)} \\sin{\\left(q_{5} \\right)} - 2.0 \\sin{\\left(q_{1} \\right)} \\sin{\\left(q_{2} \\right)} \\sin{\\left(q_{3} \\right)} + 2.0 \\sin{\\left(q_{1} \\right)} \\cos{\\left(q_{2} \\right)} \\cos{\\left(q_{3} \\right)} & \\left(0.5 \\left(\\sin{\\left(q_{1} \\right)} \\sin{\\left(q_{2} \\right)} \\sin{\\left(q_{3} \\right)} - \\sin{\\left(q_{1} \\right)} \\cos{\\left(q_{2} \\right)} \\cos{\\left(q_{3} \\right)}\\right) \\cos{\\left(q_{4} \\right)} - 0.5 \\sin{\\left(q_{4} \\right)} \\cos{\\left(q_{1} \\right)}\\right) \\sin{\\left(q_{5} \\right)} & \\left(0.5 \\left(\\sin{\\left(q_{1} \\right)} \\sin{\\left(q_{2} \\right)} \\sin{\\left(q_{3} \\right)} - \\sin{\\left(q_{1} \\right)} \\cos{\\left(q_{2} \\right)} \\cos{\\left(q_{3} \\right)}\\right) \\sin{\\left(q_{4} \\right)} + 0.5 \\cos{\\left(q_{1} \\right)} \\cos{\\left(q_{4} \\right)}\\right) \\cos{\\left(q_{5} \\right)} - \\left(0.5 \\sin{\\left(q_{1} \\right)} \\sin{\\left(q_{2} \\right)} \\cos{\\left(q_{3} \\right)} + 0.5 \\sin{\\left(q_{1} \\right)} \\sin{\\left(q_{3} \\right)} \\cos{\\left(q_{2} \\right)}\\right) \\sin{\\left(q_{5} \\right)} & 0\\\\\\left(0.5 \\left(\\sin{\\left(q_{1} \\right)} \\sin{\\left(q_{2} \\right)} \\sin{\\left(q_{3} \\right)} - \\sin{\\left(q_{1} \\right)} \\cos{\\left(q_{2} \\right)} \\cos{\\left(q_{3} \\right)}\\right) \\sin{\\left(q_{4} \\right)} + 0.5 \\cos{\\left(q_{1} \\right)} \\cos{\\left(q_{4} \\right)}\\right) \\sin{\\left(q_{5} \\right)} + \\left(0.5 \\sin{\\left(q_{1} \\right)} \\sin{\\left(q_{2} \\right)} \\cos{\\left(q_{3} \\right)} + 0.5 \\sin{\\left(q_{1} \\right)} \\sin{\\left(q_{3} \\right)} \\cos{\\left(q_{2} \\right)}\\right) \\cos{\\left(q_{5} \\right)} + 2.0 \\sin{\\left(q_{1} \\right)} \\sin{\\left(q_{2} \\right)} \\cos{\\left(q_{3} \\right)} + 1.0 \\sin{\\left(q_{1} \\right)} \\sin{\\left(q_{2} \\right)} + 2.0 \\sin{\\left(q_{1} \\right)} \\sin{\\left(q_{3} \\right)} \\cos{\\left(q_{2} \\right)} & \\left(0.5 \\sin{\\left(q_{2} \\right)} \\sin{\\left(q_{3} \\right)} \\cos{\\left(q_{1} \\right)} - 0.5 \\cos{\\left(q_{1} \\right)} \\cos{\\left(q_{2} \\right)} \\cos{\\left(q_{3} \\right)}\\right) \\cos{\\left(q_{5} \\right)} + 0.5 \\left(- \\sin{\\left(q_{2} \\right)} \\cos{\\left(q_{1} \\right)} \\cos{\\left(q_{3} \\right)} - \\sin{\\left(q_{3} \\right)} \\cos{\\left(q_{1} \\right)} \\cos{\\left(q_{2} \\right)}\\right) \\sin{\\left(q_{4} \\right)} \\sin{\\left(q_{5} \\right)} + 2.0 \\sin{\\left(q_{2} \\right)} \\sin{\\left(q_{3} \\right)} \\cos{\\left(q_{1} \\right)} - 2.0 \\cos{\\left(q_{1} \\right)} \\cos{\\left(q_{2} \\right)} \\cos{\\left(q_{3} \\right)} - 1.0 \\cos{\\left(q_{1} \\right)} \\cos{\\left(q_{2} \\right)} & \\left(0.5 \\sin{\\left(q_{2} \\right)} \\sin{\\left(q_{3} \\right)} \\cos{\\left(q_{1} \\right)} - 0.5 \\cos{\\left(q_{1} \\right)} \\cos{\\left(q_{2} \\right)} \\cos{\\left(q_{3} \\right)}\\right) \\cos{\\left(q_{5} \\right)} + 0.5 \\left(- \\sin{\\left(q_{2} \\right)} \\cos{\\left(q_{1} \\right)} \\cos{\\left(q_{3} \\right)} - \\sin{\\left(q_{3} \\right)} \\cos{\\left(q_{1} \\right)} \\cos{\\left(q_{2} \\right)}\\right) \\sin{\\left(q_{4} \\right)} \\sin{\\left(q_{5} \\right)} + 2.0 \\sin{\\left(q_{2} \\right)} \\sin{\\left(q_{3} \\right)} \\cos{\\left(q_{1} \\right)} - 2.0 \\cos{\\left(q_{1} \\right)} \\cos{\\left(q_{2} \\right)} \\cos{\\left(q_{3} \\right)} & \\left(0.5 \\left(- \\sin{\\left(q_{2} \\right)} \\sin{\\left(q_{3} \\right)} \\cos{\\left(q_{1} \\right)} + \\cos{\\left(q_{1} \\right)} \\cos{\\left(q_{2} \\right)} \\cos{\\left(q_{3} \\right)}\\right) \\cos{\\left(q_{4} \\right)} - 0.5 \\sin{\\left(q_{1} \\right)} \\sin{\\left(q_{4} \\right)}\\right) \\sin{\\left(q_{5} \\right)} & \\left(0.5 \\left(- \\sin{\\left(q_{2} \\right)} \\sin{\\left(q_{3} \\right)} \\cos{\\left(q_{1} \\right)} + \\cos{\\left(q_{1} \\right)} \\cos{\\left(q_{2} \\right)} \\cos{\\left(q_{3} \\right)}\\right) \\sin{\\left(q_{4} \\right)} + 0.5 \\sin{\\left(q_{1} \\right)} \\cos{\\left(q_{4} \\right)}\\right) \\cos{\\left(q_{5} \\right)} - \\left(- 0.5 \\sin{\\left(q_{2} \\right)} \\cos{\\left(q_{1} \\right)} \\cos{\\left(q_{3} \\right)} - 0.5 \\sin{\\left(q_{3} \\right)} \\cos{\\left(q_{1} \\right)} \\cos{\\left(q_{2} \\right)}\\right) \\sin{\\left(q_{5} \\right)} & 0\\\\0 & \\left(- 0.5 \\sin{\\left(q_{2} \\right)} \\sin{\\left(q_{3} \\right)} + 0.5 \\cos{\\left(q_{2} \\right)} \\cos{\\left(q_{3} \\right)}\\right) \\sin{\\left(q_{4} \\right)} \\sin{\\left(q_{5} \\right)} + \\left(- 0.5 \\sin{\\left(q_{2} \\right)} \\cos{\\left(q_{3} \\right)} - 0.5 \\sin{\\left(q_{3} \\right)} \\cos{\\left(q_{2} \\right)}\\right) \\cos{\\left(q_{5} \\right)} - 2.0 \\sin{\\left(q_{2} \\right)} \\cos{\\left(q_{3} \\right)} - 1.0 \\sin{\\left(q_{2} \\right)} - 2.0 \\sin{\\left(q_{3} \\right)} \\cos{\\left(q_{2} \\right)} & \\left(- 0.5 \\sin{\\left(q_{2} \\right)} \\sin{\\left(q_{3} \\right)} + 0.5 \\cos{\\left(q_{2} \\right)} \\cos{\\left(q_{3} \\right)}\\right) \\sin{\\left(q_{4} \\right)} \\sin{\\left(q_{5} \\right)} + \\left(- 0.5 \\sin{\\left(q_{2} \\right)} \\cos{\\left(q_{3} \\right)} - 0.5 \\sin{\\left(q_{3} \\right)} \\cos{\\left(q_{2} \\right)}\\right) \\cos{\\left(q_{5} \\right)} - 2.0 \\sin{\\left(q_{2} \\right)} \\cos{\\left(q_{3} \\right)} - 2.0 \\sin{\\left(q_{3} \\right)} \\cos{\\left(q_{2} \\right)} & \\left(0.5 \\sin{\\left(q_{2} \\right)} \\cos{\\left(q_{3} \\right)} + 0.5 \\sin{\\left(q_{3} \\right)} \\cos{\\left(q_{2} \\right)}\\right) \\sin{\\left(q_{5} \\right)} \\cos{\\left(q_{4} \\right)} & - \\left(- 0.5 \\sin{\\left(q_{2} \\right)} \\sin{\\left(q_{3} \\right)} + 0.5 \\cos{\\left(q_{2} \\right)} \\cos{\\left(q_{3} \\right)}\\right) \\sin{\\left(q_{5} \\right)} + \\left(0.5 \\sin{\\left(q_{2} \\right)} \\cos{\\left(q_{3} \\right)} + 0.5 \\sin{\\left(q_{3} \\right)} \\cos{\\left(q_{2} \\right)}\\right) \\sin{\\left(q_{4} \\right)} \\cos{\\left(q_{5} \\right)} & 0\\end{matrix}\\right] & \\left[\\begin{matrix}\\left(1.5 \\left(\\sin{\\left(q_{2} \\right)} \\sin{\\left(q_{3} \\right)} \\cos{\\left(q_{1} \\right)} - \\cos{\\left(q_{1} \\right)} \\cos{\\left(q_{2} \\right)} \\cos{\\left(q_{3} \\right)}\\right) \\sin{\\left(q_{4} \\right)} - 1.5 \\sin{\\left(q_{1} \\right)} \\cos{\\left(q_{4} \\right)}\\right) \\sin{\\left(q_{5} \\right)} + \\left(1.5 \\sin{\\left(q_{2} \\right)} \\cos{\\left(q_{1} \\right)} \\cos{\\left(q_{3} \\right)} + 1.5 \\sin{\\left(q_{3} \\right)} \\cos{\\left(q_{1} \\right)} \\cos{\\left(q_{2} \\right)}\\right) \\cos{\\left(q_{5} \\right)} + 2.0 \\sin{\\left(q_{2} \\right)} \\cos{\\left(q_{1} \\right)} \\cos{\\left(q_{3} \\right)} + 1.0 \\sin{\\left(q_{2} \\right)} \\cos{\\left(q_{1} \\right)} + 2.0 \\sin{\\left(q_{3} \\right)} \\cos{\\left(q_{1} \\right)} \\cos{\\left(q_{2} \\right)} & \\left(- 1.5 \\sin{\\left(q_{1} \\right)} \\sin{\\left(q_{2} \\right)} \\sin{\\left(q_{3} \\right)} + 1.5 \\sin{\\left(q_{1} \\right)} \\cos{\\left(q_{2} \\right)} \\cos{\\left(q_{3} \\right)}\\right) \\cos{\\left(q_{5} \\right)} + 1.5 \\left(\\sin{\\left(q_{1} \\right)} \\sin{\\left(q_{2} \\right)} \\cos{\\left(q_{3} \\right)} + \\sin{\\left(q_{1} \\right)} \\sin{\\left(q_{3} \\right)} \\cos{\\left(q_{2} \\right)}\\right) \\sin{\\left(q_{4} \\right)} \\sin{\\left(q_{5} \\right)} - 2.0 \\sin{\\left(q_{1} \\right)} \\sin{\\left(q_{2} \\right)} \\sin{\\left(q_{3} \\right)} + 2.0 \\sin{\\left(q_{1} \\right)} \\cos{\\left(q_{2} \\right)} \\cos{\\left(q_{3} \\right)} + 1.0 \\sin{\\left(q_{1} \\right)} \\cos{\\left(q_{2} \\right)} & \\left(- 1.5 \\sin{\\left(q_{1} \\right)} \\sin{\\left(q_{2} \\right)} \\sin{\\left(q_{3} \\right)} + 1.5 \\sin{\\left(q_{1} \\right)} \\cos{\\left(q_{2} \\right)} \\cos{\\left(q_{3} \\right)}\\right) \\cos{\\left(q_{5} \\right)} + 1.5 \\left(\\sin{\\left(q_{1} \\right)} \\sin{\\left(q_{2} \\right)} \\cos{\\left(q_{3} \\right)} + \\sin{\\left(q_{1} \\right)} \\sin{\\left(q_{3} \\right)} \\cos{\\left(q_{2} \\right)}\\right) \\sin{\\left(q_{4} \\right)} \\sin{\\left(q_{5} \\right)} - 2.0 \\sin{\\left(q_{1} \\right)} \\sin{\\left(q_{2} \\right)} \\sin{\\left(q_{3} \\right)} + 2.0 \\sin{\\left(q_{1} \\right)} \\cos{\\left(q_{2} \\right)} \\cos{\\left(q_{3} \\right)} & \\left(1.5 \\left(\\sin{\\left(q_{1} \\right)} \\sin{\\left(q_{2} \\right)} \\sin{\\left(q_{3} \\right)} - \\sin{\\left(q_{1} \\right)} \\cos{\\left(q_{2} \\right)} \\cos{\\left(q_{3} \\right)}\\right) \\cos{\\left(q_{4} \\right)} - 1.5 \\sin{\\left(q_{4} \\right)} \\cos{\\left(q_{1} \\right)}\\right) \\sin{\\left(q_{5} \\right)} & \\left(1.5 \\left(\\sin{\\left(q_{1} \\right)} \\sin{\\left(q_{2} \\right)} \\sin{\\left(q_{3} \\right)} - \\sin{\\left(q_{1} \\right)} \\cos{\\left(q_{2} \\right)} \\cos{\\left(q_{3} \\right)}\\right) \\sin{\\left(q_{4} \\right)} + 1.5 \\cos{\\left(q_{1} \\right)} \\cos{\\left(q_{4} \\right)}\\right) \\cos{\\left(q_{5} \\right)} - \\left(1.5 \\sin{\\left(q_{1} \\right)} \\sin{\\left(q_{2} \\right)} \\cos{\\left(q_{3} \\right)} + 1.5 \\sin{\\left(q_{1} \\right)} \\sin{\\left(q_{3} \\right)} \\cos{\\left(q_{2} \\right)}\\right) \\sin{\\left(q_{5} \\right)} & 0\\\\\\left(1.5 \\left(\\sin{\\left(q_{1} \\right)} \\sin{\\left(q_{2} \\right)} \\sin{\\left(q_{3} \\right)} - \\sin{\\left(q_{1} \\right)} \\cos{\\left(q_{2} \\right)} \\cos{\\left(q_{3} \\right)}\\right) \\sin{\\left(q_{4} \\right)} + 1.5 \\cos{\\left(q_{1} \\right)} \\cos{\\left(q_{4} \\right)}\\right) \\sin{\\left(q_{5} \\right)} + \\left(1.5 \\sin{\\left(q_{1} \\right)} \\sin{\\left(q_{2} \\right)} \\cos{\\left(q_{3} \\right)} + 1.5 \\sin{\\left(q_{1} \\right)} \\sin{\\left(q_{3} \\right)} \\cos{\\left(q_{2} \\right)}\\right) \\cos{\\left(q_{5} \\right)} + 2.0 \\sin{\\left(q_{1} \\right)} \\sin{\\left(q_{2} \\right)} \\cos{\\left(q_{3} \\right)} + 1.0 \\sin{\\left(q_{1} \\right)} \\sin{\\left(q_{2} \\right)} + 2.0 \\sin{\\left(q_{1} \\right)} \\sin{\\left(q_{3} \\right)} \\cos{\\left(q_{2} \\right)} & \\left(1.5 \\sin{\\left(q_{2} \\right)} \\sin{\\left(q_{3} \\right)} \\cos{\\left(q_{1} \\right)} - 1.5 \\cos{\\left(q_{1} \\right)} \\cos{\\left(q_{2} \\right)} \\cos{\\left(q_{3} \\right)}\\right) \\cos{\\left(q_{5} \\right)} + 1.5 \\left(- \\sin{\\left(q_{2} \\right)} \\cos{\\left(q_{1} \\right)} \\cos{\\left(q_{3} \\right)} - \\sin{\\left(q_{3} \\right)} \\cos{\\left(q_{1} \\right)} \\cos{\\left(q_{2} \\right)}\\right) \\sin{\\left(q_{4} \\right)} \\sin{\\left(q_{5} \\right)} + 2.0 \\sin{\\left(q_{2} \\right)} \\sin{\\left(q_{3} \\right)} \\cos{\\left(q_{1} \\right)} - 2.0 \\cos{\\left(q_{1} \\right)} \\cos{\\left(q_{2} \\right)} \\cos{\\left(q_{3} \\right)} - 1.0 \\cos{\\left(q_{1} \\right)} \\cos{\\left(q_{2} \\right)} & \\left(1.5 \\sin{\\left(q_{2} \\right)} \\sin{\\left(q_{3} \\right)} \\cos{\\left(q_{1} \\right)} - 1.5 \\cos{\\left(q_{1} \\right)} \\cos{\\left(q_{2} \\right)} \\cos{\\left(q_{3} \\right)}\\right) \\cos{\\left(q_{5} \\right)} + 1.5 \\left(- \\sin{\\left(q_{2} \\right)} \\cos{\\left(q_{1} \\right)} \\cos{\\left(q_{3} \\right)} - \\sin{\\left(q_{3} \\right)} \\cos{\\left(q_{1} \\right)} \\cos{\\left(q_{2} \\right)}\\right) \\sin{\\left(q_{4} \\right)} \\sin{\\left(q_{5} \\right)} + 2.0 \\sin{\\left(q_{2} \\right)} \\sin{\\left(q_{3} \\right)} \\cos{\\left(q_{1} \\right)} - 2.0 \\cos{\\left(q_{1} \\right)} \\cos{\\left(q_{2} \\right)} \\cos{\\left(q_{3} \\right)} & \\left(1.5 \\left(- \\sin{\\left(q_{2} \\right)} \\sin{\\left(q_{3} \\right)} \\cos{\\left(q_{1} \\right)} + \\cos{\\left(q_{1} \\right)} \\cos{\\left(q_{2} \\right)} \\cos{\\left(q_{3} \\right)}\\right) \\cos{\\left(q_{4} \\right)} - 1.5 \\sin{\\left(q_{1} \\right)} \\sin{\\left(q_{4} \\right)}\\right) \\sin{\\left(q_{5} \\right)} & \\left(1.5 \\left(- \\sin{\\left(q_{2} \\right)} \\sin{\\left(q_{3} \\right)} \\cos{\\left(q_{1} \\right)} + \\cos{\\left(q_{1} \\right)} \\cos{\\left(q_{2} \\right)} \\cos{\\left(q_{3} \\right)}\\right) \\sin{\\left(q_{4} \\right)} + 1.5 \\sin{\\left(q_{1} \\right)} \\cos{\\left(q_{4} \\right)}\\right) \\cos{\\left(q_{5} \\right)} - \\left(- 1.5 \\sin{\\left(q_{2} \\right)} \\cos{\\left(q_{1} \\right)} \\cos{\\left(q_{3} \\right)} - 1.5 \\sin{\\left(q_{3} \\right)} \\cos{\\left(q_{1} \\right)} \\cos{\\left(q_{2} \\right)}\\right) \\sin{\\left(q_{5} \\right)} & 0\\\\0 & \\left(- 1.5 \\sin{\\left(q_{2} \\right)} \\sin{\\left(q_{3} \\right)} + 1.5 \\cos{\\left(q_{2} \\right)} \\cos{\\left(q_{3} \\right)}\\right) \\sin{\\left(q_{4} \\right)} \\sin{\\left(q_{5} \\right)} + \\left(- 1.5 \\sin{\\left(q_{2} \\right)} \\cos{\\left(q_{3} \\right)} - 1.5 \\sin{\\left(q_{3} \\right)} \\cos{\\left(q_{2} \\right)}\\right) \\cos{\\left(q_{5} \\right)} - 2.0 \\sin{\\left(q_{2} \\right)} \\cos{\\left(q_{3} \\right)} - 1.0 \\sin{\\left(q_{2} \\right)} - 2.0 \\sin{\\left(q_{3} \\right)} \\cos{\\left(q_{2} \\right)} & \\left(- 1.5 \\sin{\\left(q_{2} \\right)} \\sin{\\left(q_{3} \\right)} + 1.5 \\cos{\\left(q_{2} \\right)} \\cos{\\left(q_{3} \\right)}\\right) \\sin{\\left(q_{4} \\right)} \\sin{\\left(q_{5} \\right)} + \\left(- 1.5 \\sin{\\left(q_{2} \\right)} \\cos{\\left(q_{3} \\right)} - 1.5 \\sin{\\left(q_{3} \\right)} \\cos{\\left(q_{2} \\right)}\\right) \\cos{\\left(q_{5} \\right)} - 2.0 \\sin{\\left(q_{2} \\right)} \\cos{\\left(q_{3} \\right)} - 2.0 \\sin{\\left(q_{3} \\right)} \\cos{\\left(q_{2} \\right)} & \\left(1.5 \\sin{\\left(q_{2} \\right)} \\cos{\\left(q_{3} \\right)} + 1.5 \\sin{\\left(q_{3} \\right)} \\cos{\\left(q_{2} \\right)}\\right) \\sin{\\left(q_{5} \\right)} \\cos{\\left(q_{4} \\right)} & - \\left(- 1.5 \\sin{\\left(q_{2} \\right)} \\sin{\\left(q_{3} \\right)} + 1.5 \\cos{\\left(q_{2} \\right)} \\cos{\\left(q_{3} \\right)}\\right) \\sin{\\left(q_{5} \\right)} + \\left(1.5 \\sin{\\left(q_{2} \\right)} \\cos{\\left(q_{3} \\right)} + 1.5 \\sin{\\left(q_{3} \\right)} \\cos{\\left(q_{2} \\right)}\\right) \\sin{\\left(q_{4} \\right)} \\cos{\\left(q_{5} \\right)} & 0\\end{matrix}\\right]\\end{matrix}\\right]$",
            "text/plain": [
              "[[[0, 0, 0, 0, 0, 0], [0, 0, 0, 0, 0, 0], [0, 0, 0, 0, 0, 0]], [[0.5*sin(q2)*cos(q1), 0.5*sin(q1)*cos(q2), 0, 0, 0, 0], [0.5*sin(q1)*sin(q2), -0.5*cos(q1)*cos(q2), 0, 0, 0, 0], [0, -0.5*sin(q2), 0, 0, 0, 0]], [[0.5*sin(q2)*cos(q1)*cos(q3) + 1.0*sin(q2)*cos(q1) + 0.5*sin(q3)*cos(q1)*cos(q2), -0.5*sin(q1)*sin(q2)*sin(q3) + 0.5*sin(q1)*cos(q2)*cos(q3) + 1.0*sin(q1)*cos(q2), -0.5*sin(q1)*sin(q2)*sin(q3) + 0.5*sin(q1)*cos(q2)*cos(q3), 0, 0, 0], [0.5*sin(q1)*sin(q2)*cos(q3) + 1.0*sin(q1)*sin(q2) + 0.5*sin(q1)*sin(q3)*cos(q2), 0.5*sin(q2)*sin(q3)*cos(q1) - 0.5*cos(q1)*cos(q2)*cos(q3) - 1.0*cos(q1)*cos(q2), 0.5*sin(q2)*sin(q3)*cos(q1) - 0.5*cos(q1)*cos(q2)*cos(q3), 0, 0, 0], [0, -0.5*sin(q2)*cos(q3) - 1.0*sin(q2) - 0.5*sin(q3)*cos(q2), -0.5*sin(q2)*cos(q3) - 0.5*sin(q3)*cos(q2), 0, 0, 0]], [[1.5*sin(q2)*cos(q1)*cos(q3) + 1.0*sin(q2)*cos(q1) + 1.5*sin(q3)*cos(q1)*cos(q2), -1.5*sin(q1)*sin(q2)*sin(q3) + 1.5*sin(q1)*cos(q2)*cos(q3) + 1.0*sin(q1)*cos(q2), -1.5*sin(q1)*sin(q2)*sin(q3) + 1.5*sin(q1)*cos(q2)*cos(q3), 0, 0, 0], [1.5*sin(q1)*sin(q2)*cos(q3) + 1.0*sin(q1)*sin(q2) + 1.5*sin(q1)*sin(q3)*cos(q2), 1.5*sin(q2)*sin(q3)*cos(q1) - 1.5*cos(q1)*cos(q2)*cos(q3) - 1.0*cos(q1)*cos(q2), 1.5*sin(q2)*sin(q3)*cos(q1) - 1.5*cos(q1)*cos(q2)*cos(q3), 0, 0, 0], [0, -1.5*sin(q2)*cos(q3) - 1.0*sin(q2) - 1.5*sin(q3)*cos(q2), -1.5*sin(q2)*cos(q3) - 1.5*sin(q3)*cos(q2), 0, 0, 0]], [[(0.5*(sin(q2)*sin(q3)*cos(q1) - cos(q1)*cos(q2)*cos(q3))*sin(q4) - 0.5*sin(q1)*cos(q4))*sin(q5) + (0.5*sin(q2)*cos(q1)*cos(q3) + 0.5*sin(q3)*cos(q1)*cos(q2))*cos(q5) + 2.0*sin(q2)*cos(q1)*cos(q3) + 1.0*sin(q2)*cos(q1) + 2.0*sin(q3)*cos(q1)*cos(q2), (-0.5*sin(q1)*sin(q2)*sin(q3) + 0.5*sin(q1)*cos(q2)*cos(q3))*cos(q5) + 0.5*(sin(q1)*sin(q2)*cos(q3) + sin(q1)*sin(q3)*cos(q2))*sin(q4)*sin(q5) - 2.0*sin(q1)*sin(q2)*sin(q3) + 2.0*sin(q1)*cos(q2)*cos(q3) + 1.0*sin(q1)*cos(q2), (-0.5*sin(q1)*sin(q2)*sin(q3) + 0.5*sin(q1)*cos(q2)*cos(q3))*cos(q5) + 0.5*(sin(q1)*sin(q2)*cos(q3) + sin(q1)*sin(q3)*cos(q2))*sin(q4)*sin(q5) - 2.0*sin(q1)*sin(q2)*sin(q3) + 2.0*sin(q1)*cos(q2)*cos(q3), (0.5*(sin(q1)*sin(q2)*sin(q3) - sin(q1)*cos(q2)*cos(q3))*cos(q4) - 0.5*sin(q4)*cos(q1))*sin(q5), (0.5*(sin(q1)*sin(q2)*sin(q3) - sin(q1)*cos(q2)*cos(q3))*sin(q4) + 0.5*cos(q1)*cos(q4))*cos(q5) - (0.5*sin(q1)*sin(q2)*cos(q3) + 0.5*sin(q1)*sin(q3)*cos(q2))*sin(q5), 0], [(0.5*(sin(q1)*sin(q2)*sin(q3) - sin(q1)*cos(q2)*cos(q3))*sin(q4) + 0.5*cos(q1)*cos(q4))*sin(q5) + (0.5*sin(q1)*sin(q2)*cos(q3) + 0.5*sin(q1)*sin(q3)*cos(q2))*cos(q5) + 2.0*sin(q1)*sin(q2)*cos(q3) + 1.0*sin(q1)*sin(q2) + 2.0*sin(q1)*sin(q3)*cos(q2), (0.5*sin(q2)*sin(q3)*cos(q1) - 0.5*cos(q1)*cos(q2)*cos(q3))*cos(q5) + 0.5*(-sin(q2)*cos(q1)*cos(q3) - sin(q3)*cos(q1)*cos(q2))*sin(q4)*sin(q5) + 2.0*sin(q2)*sin(q3)*cos(q1) - 2.0*cos(q1)*cos(q2)*cos(q3) - 1.0*cos(q1)*cos(q2), (0.5*sin(q2)*sin(q3)*cos(q1) - 0.5*cos(q1)*cos(q2)*cos(q3))*cos(q5) + 0.5*(-sin(q2)*cos(q1)*cos(q3) - sin(q3)*cos(q1)*cos(q2))*sin(q4)*sin(q5) + 2.0*sin(q2)*sin(q3)*cos(q1) - 2.0*cos(q1)*cos(q2)*cos(q3), (0.5*(-sin(q2)*sin(q3)*cos(q1) + cos(q1)*cos(q2)*cos(q3))*cos(q4) - 0.5*sin(q1)*sin(q4))*sin(q5), (0.5*(-sin(q2)*sin(q3)*cos(q1) + cos(q1)*cos(q2)*cos(q3))*sin(q4) + 0.5*sin(q1)*cos(q4))*cos(q5) - (-0.5*sin(q2)*cos(q1)*cos(q3) - 0.5*sin(q3)*cos(q1)*cos(q2))*sin(q5), 0], [0, (-0.5*sin(q2)*sin(q3) + 0.5*cos(q2)*cos(q3))*sin(q4)*sin(q5) + (-0.5*sin(q2)*cos(q3) - 0.5*sin(q3)*cos(q2))*cos(q5) - 2.0*sin(q2)*cos(q3) - 1.0*sin(q2) - 2.0*sin(q3)*cos(q2), (-0.5*sin(q2)*sin(q3) + 0.5*cos(q2)*cos(q3))*sin(q4)*sin(q5) + (-0.5*sin(q2)*cos(q3) - 0.5*sin(q3)*cos(q2))*cos(q5) - 2.0*sin(q2)*cos(q3) - 2.0*sin(q3)*cos(q2), (0.5*sin(q2)*cos(q3) + 0.5*sin(q3)*cos(q2))*sin(q5)*cos(q4), -(-0.5*sin(q2)*sin(q3) + 0.5*cos(q2)*cos(q3))*sin(q5) + (0.5*sin(q2)*cos(q3) + 0.5*sin(q3)*cos(q2))*sin(q4)*cos(q5), 0]], [[(1.5*(sin(q2)*sin(q3)*cos(q1) - cos(q1)*cos(q2)*cos(q3))*sin(q4) - 1.5*sin(q1)*cos(q4))*sin(q5) + (1.5*sin(q2)*cos(q1)*cos(q3) + 1.5*sin(q3)*cos(q1)*cos(q2))*cos(q5) + 2.0*sin(q2)*cos(q1)*cos(q3) + 1.0*sin(q2)*cos(q1) + 2.0*sin(q3)*cos(q1)*cos(q2), (-1.5*sin(q1)*sin(q2)*sin(q3) + 1.5*sin(q1)*cos(q2)*cos(q3))*cos(q5) + 1.5*(sin(q1)*sin(q2)*cos(q3) + sin(q1)*sin(q3)*cos(q2))*sin(q4)*sin(q5) - 2.0*sin(q1)*sin(q2)*sin(q3) + 2.0*sin(q1)*cos(q2)*cos(q3) + 1.0*sin(q1)*cos(q2), (-1.5*sin(q1)*sin(q2)*sin(q3) + 1.5*sin(q1)*cos(q2)*cos(q3))*cos(q5) + 1.5*(sin(q1)*sin(q2)*cos(q3) + sin(q1)*sin(q3)*cos(q2))*sin(q4)*sin(q5) - 2.0*sin(q1)*sin(q2)*sin(q3) + 2.0*sin(q1)*cos(q2)*cos(q3), (1.5*(sin(q1)*sin(q2)*sin(q3) - sin(q1)*cos(q2)*cos(q3))*cos(q4) - 1.5*sin(q4)*cos(q1))*sin(q5), (1.5*(sin(q1)*sin(q2)*sin(q3) - sin(q1)*cos(q2)*cos(q3))*sin(q4) + 1.5*cos(q1)*cos(q4))*cos(q5) - (1.5*sin(q1)*sin(q2)*cos(q3) + 1.5*sin(q1)*sin(q3)*cos(q2))*sin(q5), 0], [(1.5*(sin(q1)*sin(q2)*sin(q3) - sin(q1)*cos(q2)*cos(q3))*sin(q4) + 1.5*cos(q1)*cos(q4))*sin(q5) + (1.5*sin(q1)*sin(q2)*cos(q3) + 1.5*sin(q1)*sin(q3)*cos(q2))*cos(q5) + 2.0*sin(q1)*sin(q2)*cos(q3) + 1.0*sin(q1)*sin(q2) + 2.0*sin(q1)*sin(q3)*cos(q2), (1.5*sin(q2)*sin(q3)*cos(q1) - 1.5*cos(q1)*cos(q2)*cos(q3))*cos(q5) + 1.5*(-sin(q2)*cos(q1)*cos(q3) - sin(q3)*cos(q1)*cos(q2))*sin(q4)*sin(q5) + 2.0*sin(q2)*sin(q3)*cos(q1) - 2.0*cos(q1)*cos(q2)*cos(q3) - 1.0*cos(q1)*cos(q2), (1.5*sin(q2)*sin(q3)*cos(q1) - 1.5*cos(q1)*cos(q2)*cos(q3))*cos(q5) + 1.5*(-sin(q2)*cos(q1)*cos(q3) - sin(q3)*cos(q1)*cos(q2))*sin(q4)*sin(q5) + 2.0*sin(q2)*sin(q3)*cos(q1) - 2.0*cos(q1)*cos(q2)*cos(q3), (1.5*(-sin(q2)*sin(q3)*cos(q1) + cos(q1)*cos(q2)*cos(q3))*cos(q4) - 1.5*sin(q1)*sin(q4))*sin(q5), (1.5*(-sin(q2)*sin(q3)*cos(q1) + cos(q1)*cos(q2)*cos(q3))*sin(q4) + 1.5*sin(q1)*cos(q4))*cos(q5) - (-1.5*sin(q2)*cos(q1)*cos(q3) - 1.5*sin(q3)*cos(q1)*cos(q2))*sin(q5), 0], [0, (-1.5*sin(q2)*sin(q3) + 1.5*cos(q2)*cos(q3))*sin(q4)*sin(q5) + (-1.5*sin(q2)*cos(q3) - 1.5*sin(q3)*cos(q2))*cos(q5) - 2.0*sin(q2)*cos(q3) - 1.0*sin(q2) - 2.0*sin(q3)*cos(q2), (-1.5*sin(q2)*sin(q3) + 1.5*cos(q2)*cos(q3))*sin(q4)*sin(q5) + (-1.5*sin(q2)*cos(q3) - 1.5*sin(q3)*cos(q2))*cos(q5) - 2.0*sin(q2)*cos(q3) - 2.0*sin(q3)*cos(q2), (1.5*sin(q2)*cos(q3) + 1.5*sin(q3)*cos(q2))*sin(q5)*cos(q4), -(-1.5*sin(q2)*sin(q3) + 1.5*cos(q2)*cos(q3))*sin(q5) + (1.5*sin(q2)*cos(q3) + 1.5*sin(q3)*cos(q2))*sin(q4)*cos(q5), 0]]]"
            ]
          },
          "metadata": {},
          "execution_count": 4
        }
      ]
    },
    {
      "cell_type": "markdown",
      "source": [
        "The Jacobian matrix for **angular velocity** $(3,n)$:\n",
        "$$\n",
        "\\begin{align}\n",
        "J_w^1 &= \\left(\n",
        "\\begin{array}{cccc}\n",
        " u_0 & 0 & 0 & \\cdots & 0 \n",
        "\\end{array}\n",
        "\\right)\\\\\n",
        "J_w^2 &= \\left(\n",
        "\\begin{array}{cccc}\n",
        " u_0 & u_1 & 0 & \\cdots & 0 \n",
        "\\end{array}\n",
        "\\right)\\\\\n",
        "J_w^3 &= \\left(\n",
        "\\begin{array}{cccc}\n",
        " u_0 & u_1 & u_2 & 0 & \\cdots & 0 \n",
        "\\end{array}\n",
        "\\right)\\\\\n",
        "\\vdots \\\\\n",
        "J_w^n &= \\left(\n",
        "\\begin{array}{cccc}\n",
        " u_0 & u_1 & u_2 & ... & u_n\n",
        "\\end{array}\n",
        "\\right)\\\\\n",
        "\\end{align}\n",
        "$$"
      ],
      "metadata": {
        "id": "BxVRYcGsdSBZ"
      }
    },
    {
      "cell_type": "code",
      "source": [
        "u = [np.array([0, 0, 1]), com[0, :3, 0], com[1, :3, 0], com[2, :3, 2], com[3, :3, 1], com[4, :3, 2]]\n",
        "Jw = np.zeros((6,3,6), dtype=np.object)\n",
        "for n in range(6):\n",
        "  for j in range(n + 1):\n",
        "    Jw[n, :, j] = u[j]\n",
        "\n",
        "sp.Array(Jw)"
      ],
      "metadata": {
        "colab": {
          "base_uri": "https://localhost:8080/",
          "height": 99
        },
        "id": "DSbRej2wNzyo",
        "outputId": "3a5244f0-6408-4b58-f157-664a43edbd77"
      },
      "execution_count": null,
      "outputs": [
        {
          "output_type": "execute_result",
          "data": {
            "text/latex": "$\\displaystyle \\left[\\begin{matrix}\\left[\\begin{matrix}0 & 0 & 0 & 0 & 0 & 0\\\\0 & 0 & 0 & 0 & 0 & 0\\\\1 & 0 & 0 & 0 & 0 & 0\\end{matrix}\\right] & \\left[\\begin{matrix}0 & 1.0 \\cos{\\left(q_{1} \\right)} & 0 & 0 & 0 & 0\\\\0 & 1.0 \\sin{\\left(q_{1} \\right)} & 0 & 0 & 0 & 0\\\\1 & 0.0 & 0 & 0 & 0 & 0\\end{matrix}\\right] & \\left[\\begin{matrix}0 & 1.0 \\cos{\\left(q_{1} \\right)} & 1.0 \\cos{\\left(q_{1} \\right)} & 0 & 0 & 0\\\\0 & 1.0 \\sin{\\left(q_{1} \\right)} & 1.0 \\sin{\\left(q_{1} \\right)} & 0 & 0 & 0\\\\1 & 0.0 & 0 & 0 & 0 & 0\\end{matrix}\\right] & \\left[\\begin{matrix}0 & 1.0 \\cos{\\left(q_{1} \\right)} & 1.0 \\cos{\\left(q_{1} \\right)} & 1.0 \\sin{\\left(q_{1} \\right)} \\sin{\\left(q_{2} \\right)} \\cos{\\left(q_{3} \\right)} + 1.0 \\sin{\\left(q_{1} \\right)} \\sin{\\left(q_{3} \\right)} \\cos{\\left(q_{2} \\right)} & 0 & 0\\\\0 & 1.0 \\sin{\\left(q_{1} \\right)} & 1.0 \\sin{\\left(q_{1} \\right)} & - 1.0 \\sin{\\left(q_{2} \\right)} \\cos{\\left(q_{1} \\right)} \\cos{\\left(q_{3} \\right)} - 1.0 \\sin{\\left(q_{3} \\right)} \\cos{\\left(q_{1} \\right)} \\cos{\\left(q_{2} \\right)} & 0 & 0\\\\1 & 0.0 & 0 & - 1.0 \\sin{\\left(q_{2} \\right)} \\sin{\\left(q_{3} \\right)} + 1.0 \\cos{\\left(q_{2} \\right)} \\cos{\\left(q_{3} \\right)} & 0 & 0\\end{matrix}\\right] & \\left[\\begin{matrix}0 & 1.0 \\cos{\\left(q_{1} \\right)} & 1.0 \\cos{\\left(q_{1} \\right)} & 1.0 \\sin{\\left(q_{1} \\right)} \\sin{\\left(q_{2} \\right)} \\cos{\\left(q_{3} \\right)} + 1.0 \\sin{\\left(q_{1} \\right)} \\sin{\\left(q_{3} \\right)} \\cos{\\left(q_{2} \\right)} & 1.0 \\left(\\sin{\\left(q_{1} \\right)} \\sin{\\left(q_{2} \\right)} \\sin{\\left(q_{3} \\right)} - \\sin{\\left(q_{1} \\right)} \\cos{\\left(q_{2} \\right)} \\cos{\\left(q_{3} \\right)}\\right) \\cos{\\left(q_{4} \\right)} - 1.0 \\sin{\\left(q_{4} \\right)} \\cos{\\left(q_{1} \\right)} & 0\\\\0 & 1.0 \\sin{\\left(q_{1} \\right)} & 1.0 \\sin{\\left(q_{1} \\right)} & - 1.0 \\sin{\\left(q_{2} \\right)} \\cos{\\left(q_{1} \\right)} \\cos{\\left(q_{3} \\right)} - 1.0 \\sin{\\left(q_{3} \\right)} \\cos{\\left(q_{1} \\right)} \\cos{\\left(q_{2} \\right)} & 1.0 \\left(- \\sin{\\left(q_{2} \\right)} \\sin{\\left(q_{3} \\right)} \\cos{\\left(q_{1} \\right)} + \\cos{\\left(q_{1} \\right)} \\cos{\\left(q_{2} \\right)} \\cos{\\left(q_{3} \\right)}\\right) \\cos{\\left(q_{4} \\right)} - 1.0 \\sin{\\left(q_{1} \\right)} \\sin{\\left(q_{4} \\right)} & 0\\\\1 & 0.0 & 0 & - 1.0 \\sin{\\left(q_{2} \\right)} \\sin{\\left(q_{3} \\right)} + 1.0 \\cos{\\left(q_{2} \\right)} \\cos{\\left(q_{3} \\right)} & 1.0 \\left(\\sin{\\left(q_{2} \\right)} \\cos{\\left(q_{3} \\right)} + \\sin{\\left(q_{3} \\right)} \\cos{\\left(q_{2} \\right)}\\right) \\cos{\\left(q_{4} \\right)} & 0\\end{matrix}\\right] & \\left[\\begin{matrix}0 & 1.0 \\cos{\\left(q_{1} \\right)} & 1.0 \\cos{\\left(q_{1} \\right)} & 1.0 \\sin{\\left(q_{1} \\right)} \\sin{\\left(q_{2} \\right)} \\cos{\\left(q_{3} \\right)} + 1.0 \\sin{\\left(q_{1} \\right)} \\sin{\\left(q_{3} \\right)} \\cos{\\left(q_{2} \\right)} & 1.0 \\left(\\sin{\\left(q_{1} \\right)} \\sin{\\left(q_{2} \\right)} \\sin{\\left(q_{3} \\right)} - \\sin{\\left(q_{1} \\right)} \\cos{\\left(q_{2} \\right)} \\cos{\\left(q_{3} \\right)}\\right) \\cos{\\left(q_{4} \\right)} - 1.0 \\sin{\\left(q_{4} \\right)} \\cos{\\left(q_{1} \\right)} & 1.0 \\left(\\left(\\sin{\\left(q_{1} \\right)} \\sin{\\left(q_{2} \\right)} \\sin{\\left(q_{3} \\right)} - \\sin{\\left(q_{1} \\right)} \\cos{\\left(q_{2} \\right)} \\cos{\\left(q_{3} \\right)}\\right) \\sin{\\left(q_{4} \\right)} + \\cos{\\left(q_{1} \\right)} \\cos{\\left(q_{4} \\right)}\\right) \\sin{\\left(q_{5} \\right)} + 1.0 \\left(\\sin{\\left(q_{1} \\right)} \\sin{\\left(q_{2} \\right)} \\cos{\\left(q_{3} \\right)} + \\sin{\\left(q_{1} \\right)} \\sin{\\left(q_{3} \\right)} \\cos{\\left(q_{2} \\right)}\\right) \\cos{\\left(q_{5} \\right)}\\\\0 & 1.0 \\sin{\\left(q_{1} \\right)} & 1.0 \\sin{\\left(q_{1} \\right)} & - 1.0 \\sin{\\left(q_{2} \\right)} \\cos{\\left(q_{1} \\right)} \\cos{\\left(q_{3} \\right)} - 1.0 \\sin{\\left(q_{3} \\right)} \\cos{\\left(q_{1} \\right)} \\cos{\\left(q_{2} \\right)} & 1.0 \\left(- \\sin{\\left(q_{2} \\right)} \\sin{\\left(q_{3} \\right)} \\cos{\\left(q_{1} \\right)} + \\cos{\\left(q_{1} \\right)} \\cos{\\left(q_{2} \\right)} \\cos{\\left(q_{3} \\right)}\\right) \\cos{\\left(q_{4} \\right)} - 1.0 \\sin{\\left(q_{1} \\right)} \\sin{\\left(q_{4} \\right)} & 1.0 \\left(\\left(- \\sin{\\left(q_{2} \\right)} \\sin{\\left(q_{3} \\right)} \\cos{\\left(q_{1} \\right)} + \\cos{\\left(q_{1} \\right)} \\cos{\\left(q_{2} \\right)} \\cos{\\left(q_{3} \\right)}\\right) \\sin{\\left(q_{4} \\right)} + \\sin{\\left(q_{1} \\right)} \\cos{\\left(q_{4} \\right)}\\right) \\sin{\\left(q_{5} \\right)} + 1.0 \\left(- \\sin{\\left(q_{2} \\right)} \\cos{\\left(q_{1} \\right)} \\cos{\\left(q_{3} \\right)} - \\sin{\\left(q_{3} \\right)} \\cos{\\left(q_{1} \\right)} \\cos{\\left(q_{2} \\right)}\\right) \\cos{\\left(q_{5} \\right)}\\\\1 & 0.0 & 0 & - 1.0 \\sin{\\left(q_{2} \\right)} \\sin{\\left(q_{3} \\right)} + 1.0 \\cos{\\left(q_{2} \\right)} \\cos{\\left(q_{3} \\right)} & 1.0 \\left(\\sin{\\left(q_{2} \\right)} \\cos{\\left(q_{3} \\right)} + \\sin{\\left(q_{3} \\right)} \\cos{\\left(q_{2} \\right)}\\right) \\cos{\\left(q_{4} \\right)} & 1.0 \\left(- \\sin{\\left(q_{2} \\right)} \\sin{\\left(q_{3} \\right)} + \\cos{\\left(q_{2} \\right)} \\cos{\\left(q_{3} \\right)}\\right) \\cos{\\left(q_{5} \\right)} + 1.0 \\left(\\sin{\\left(q_{2} \\right)} \\cos{\\left(q_{3} \\right)} + \\sin{\\left(q_{3} \\right)} \\cos{\\left(q_{2} \\right)}\\right) \\sin{\\left(q_{4} \\right)} \\sin{\\left(q_{5} \\right)}\\end{matrix}\\right]\\end{matrix}\\right]$",
            "text/plain": [
              "[[[0, 0, 0, 0, 0, 0], [0, 0, 0, 0, 0, 0], [1, 0, 0, 0, 0, 0]], [[0, 1.0*cos(q1), 0, 0, 0, 0], [0, 1.0*sin(q1), 0, 0, 0, 0], [1, 0.0, 0, 0, 0, 0]], [[0, 1.0*cos(q1), 1.0*cos(q1), 0, 0, 0], [0, 1.0*sin(q1), 1.0*sin(q1), 0, 0, 0], [1, 0.0, 0, 0, 0, 0]], [[0, 1.0*cos(q1), 1.0*cos(q1), 1.0*sin(q1)*sin(q2)*cos(q3) + 1.0*sin(q1)*sin(q3)*cos(q2), 0, 0], [0, 1.0*sin(q1), 1.0*sin(q1), -1.0*sin(q2)*cos(q1)*cos(q3) - 1.0*sin(q3)*cos(q1)*cos(q2), 0, 0], [1, 0.0, 0, -1.0*sin(q2)*sin(q3) + 1.0*cos(q2)*cos(q3), 0, 0]], [[0, 1.0*cos(q1), 1.0*cos(q1), 1.0*sin(q1)*sin(q2)*cos(q3) + 1.0*sin(q1)*sin(q3)*cos(q2), 1.0*(sin(q1)*sin(q2)*sin(q3) - sin(q1)*cos(q2)*cos(q3))*cos(q4) - 1.0*sin(q4)*cos(q1), 0], [0, 1.0*sin(q1), 1.0*sin(q1), -1.0*sin(q2)*cos(q1)*cos(q3) - 1.0*sin(q3)*cos(q1)*cos(q2), 1.0*(-sin(q2)*sin(q3)*cos(q1) + cos(q1)*cos(q2)*cos(q3))*cos(q4) - 1.0*sin(q1)*sin(q4), 0], [1, 0.0, 0, -1.0*sin(q2)*sin(q3) + 1.0*cos(q2)*cos(q3), 1.0*(sin(q2)*cos(q3) + sin(q3)*cos(q2))*cos(q4), 0]], [[0, 1.0*cos(q1), 1.0*cos(q1), 1.0*sin(q1)*sin(q2)*cos(q3) + 1.0*sin(q1)*sin(q3)*cos(q2), 1.0*(sin(q1)*sin(q2)*sin(q3) - sin(q1)*cos(q2)*cos(q3))*cos(q4) - 1.0*sin(q4)*cos(q1), 1.0*((sin(q1)*sin(q2)*sin(q3) - sin(q1)*cos(q2)*cos(q3))*sin(q4) + cos(q1)*cos(q4))*sin(q5) + 1.0*(sin(q1)*sin(q2)*cos(q3) + sin(q1)*sin(q3)*cos(q2))*cos(q5)], [0, 1.0*sin(q1), 1.0*sin(q1), -1.0*sin(q2)*cos(q1)*cos(q3) - 1.0*sin(q3)*cos(q1)*cos(q2), 1.0*(-sin(q2)*sin(q3)*cos(q1) + cos(q1)*cos(q2)*cos(q3))*cos(q4) - 1.0*sin(q1)*sin(q4), 1.0*((-sin(q2)*sin(q3)*cos(q1) + cos(q1)*cos(q2)*cos(q3))*sin(q4) + sin(q1)*cos(q4))*sin(q5) + 1.0*(-sin(q2)*cos(q1)*cos(q3) - sin(q3)*cos(q1)*cos(q2))*cos(q5)], [1, 0.0, 0, -1.0*sin(q2)*sin(q3) + 1.0*cos(q2)*cos(q3), 1.0*(sin(q2)*cos(q3) + sin(q3)*cos(q2))*cos(q4), 1.0*(-sin(q2)*sin(q3) + cos(q2)*cos(q3))*cos(q5) + 1.0*(sin(q2)*cos(q3) + sin(q3)*cos(q2))*sin(q4)*sin(q5)]]]"
            ]
          },
          "metadata": {},
          "execution_count": 5
        }
      ]
    },
    {
      "cell_type": "markdown",
      "source": [
        "## **Inetria Matrix**\n",
        "Now we are able to calculate matrix $M (n, n)$ from the formula:\n",
        "\n",
        "$$\n",
        "M = \\sum_{i=1}^n m_i J_v^{i^T} J_v^i + J_w^{i^T} R_i I_i R_i^T J_w^i\n",
        "$$\n"
      ],
      "metadata": {
        "id": "sKf70iM9gxF5"
      }
    },
    {
      "cell_type": "code",
      "source": [
        "R = np.zeros((6, 3, 3), dtype=np.object)\n",
        "for n in range(6):\n",
        "  R[n] = com[n, :3, :3]\n",
        "\n",
        "M = np.zeros((6, 6), dtype=np.object)\n",
        "for i in range(6):\n",
        "  M += m[i] * Jv[i].T @ Jv[i] + Jw[i].T @ R[i] @ I @ R[i].T @ Jw[i]\n",
        "\n",
        "# too large to print"
      ],
      "metadata": {
        "id": "c5T1B5xGKWmZ"
      },
      "execution_count": null,
      "outputs": []
    },
    {
      "cell_type": "markdown",
      "source": [
        "## **Coriolis Matrix**\n",
        "$$\n",
        "C = \\sum_{i=1}^n \\sum_{j=1}^n \\sum_{k=1}^n \\frac{1}{2} (\\frac{\\delta M_{i,j}}{δM_k} + \\frac{\\delta M_{i,k}}{δM_j} - \\frac{\\delta M_{j,k}}{δM_i})\n",
        "$$\n",
        "The dmensions of this matrix are $(n,n)$ and the output is implemented in code but printing it took too long"
      ],
      "metadata": {
        "id": "kff4OlQ2j2mj"
      }
    },
    {
      "cell_type": "code",
      "source": [
        "C = np.zeros((6, 6), dtype=np.object)\n",
        "for i in range(6):\n",
        "  for j in range(6):\n",
        "    for k in range(6):\n",
        "      cijk = 0.5 * (sp.diff(M[i,j], q[k]) + sp.diff(M[i,k], q[j]) - sp.diff(M[j,k], q[i]))\n",
        "      C[i, j] += cijk * dq[k]\n",
        "\n",
        "# too large to print"
      ],
      "metadata": {
        "id": "QI0XHO0UOSPq"
      },
      "execution_count": null,
      "outputs": []
    },
    {
      "cell_type": "markdown",
      "source": [
        "## **Gravity Matrix**\n",
        "The last matrix $G (1,6)$ can be calculated with the following formula:\n",
        "$$\n",
        "G = - \\sum_{i=1}^n \\sum_{k=1}^n J_{vi}^{k^T} m_k g_0\n",
        "$$"
      ],
      "metadata": {
        "id": "wALPnzBFzBWV"
      }
    },
    {
      "cell_type": "code",
      "source": [
        "g = np.zeros(6, dtype=np.object)\n",
        "for i in range(6):\n",
        "  for k in range(6):\n",
        "    g[i] -= np.dot(Jv[k, :, i], m[k] * np.array([0, 0, 9.81]))\n",
        "\n",
        "sp.Array(g)"
      ],
      "metadata": {
        "colab": {
          "base_uri": "https://localhost:8080/",
          "height": 59
        },
        "id": "HW_naQXHQB4c",
        "outputId": "f5948ea3-eacf-4f2a-f460-bd8f5199c844"
      },
      "execution_count": null,
      "outputs": [
        {
          "output_type": "execute_result",
          "data": {
            "text/latex": "$\\displaystyle \\left[\\begin{matrix}0 & - 9.81 \\left(- 1.5 \\sin{\\left(q_{2} \\right)} \\sin{\\left(q_{3} \\right)} + 1.5 \\cos{\\left(q_{2} \\right)} \\cos{\\left(q_{3} \\right)}\\right) \\sin{\\left(q_{4} \\right)} \\sin{\\left(q_{5} \\right)} - 9.81 \\left(- 0.5 \\sin{\\left(q_{2} \\right)} \\sin{\\left(q_{3} \\right)} + 0.5 \\cos{\\left(q_{2} \\right)} \\cos{\\left(q_{3} \\right)}\\right) \\sin{\\left(q_{4} \\right)} \\sin{\\left(q_{5} \\right)} - 9.81 \\left(- 1.5 \\sin{\\left(q_{2} \\right)} \\cos{\\left(q_{3} \\right)} - 1.5 \\sin{\\left(q_{3} \\right)} \\cos{\\left(q_{2} \\right)}\\right) \\cos{\\left(q_{5} \\right)} - 9.81 \\left(- 0.5 \\sin{\\left(q_{2} \\right)} \\cos{\\left(q_{3} \\right)} - 0.5 \\sin{\\left(q_{3} \\right)} \\cos{\\left(q_{2} \\right)}\\right) \\cos{\\left(q_{5} \\right)} + 58.86 \\sin{\\left(q_{2} \\right)} \\cos{\\left(q_{3} \\right)} + 44.145 \\sin{\\left(q_{2} \\right)} + 58.86 \\sin{\\left(q_{3} \\right)} \\cos{\\left(q_{2} \\right)} & - 9.81 \\left(- 1.5 \\sin{\\left(q_{2} \\right)} \\sin{\\left(q_{3} \\right)} + 1.5 \\cos{\\left(q_{2} \\right)} \\cos{\\left(q_{3} \\right)}\\right) \\sin{\\left(q_{4} \\right)} \\sin{\\left(q_{5} \\right)} - 9.81 \\left(- 0.5 \\sin{\\left(q_{2} \\right)} \\sin{\\left(q_{3} \\right)} + 0.5 \\cos{\\left(q_{2} \\right)} \\cos{\\left(q_{3} \\right)}\\right) \\sin{\\left(q_{4} \\right)} \\sin{\\left(q_{5} \\right)} - 9.81 \\left(- 1.5 \\sin{\\left(q_{2} \\right)} \\cos{\\left(q_{3} \\right)} - 1.5 \\sin{\\left(q_{3} \\right)} \\cos{\\left(q_{2} \\right)}\\right) \\cos{\\left(q_{5} \\right)} - 9.81 \\left(- 0.5 \\sin{\\left(q_{2} \\right)} \\cos{\\left(q_{3} \\right)} - 0.5 \\sin{\\left(q_{3} \\right)} \\cos{\\left(q_{2} \\right)}\\right) \\cos{\\left(q_{5} \\right)} + 58.86 \\sin{\\left(q_{2} \\right)} \\cos{\\left(q_{3} \\right)} + 58.86 \\sin{\\left(q_{3} \\right)} \\cos{\\left(q_{2} \\right)} & - 9.81 \\left(0.5 \\sin{\\left(q_{2} \\right)} \\cos{\\left(q_{3} \\right)} + 0.5 \\sin{\\left(q_{3} \\right)} \\cos{\\left(q_{2} \\right)}\\right) \\sin{\\left(q_{5} \\right)} \\cos{\\left(q_{4} \\right)} - 9.81 \\left(1.5 \\sin{\\left(q_{2} \\right)} \\cos{\\left(q_{3} \\right)} + 1.5 \\sin{\\left(q_{3} \\right)} \\cos{\\left(q_{2} \\right)}\\right) \\sin{\\left(q_{5} \\right)} \\cos{\\left(q_{4} \\right)} & 9.81 \\left(- 1.5 \\sin{\\left(q_{2} \\right)} \\sin{\\left(q_{3} \\right)} + 1.5 \\cos{\\left(q_{2} \\right)} \\cos{\\left(q_{3} \\right)}\\right) \\sin{\\left(q_{5} \\right)} + 9.81 \\left(- 0.5 \\sin{\\left(q_{2} \\right)} \\sin{\\left(q_{3} \\right)} + 0.5 \\cos{\\left(q_{2} \\right)} \\cos{\\left(q_{3} \\right)}\\right) \\sin{\\left(q_{5} \\right)} - 9.81 \\left(0.5 \\sin{\\left(q_{2} \\right)} \\cos{\\left(q_{3} \\right)} + 0.5 \\sin{\\left(q_{3} \\right)} \\cos{\\left(q_{2} \\right)}\\right) \\sin{\\left(q_{4} \\right)} \\cos{\\left(q_{5} \\right)} - 9.81 \\left(1.5 \\sin{\\left(q_{2} \\right)} \\cos{\\left(q_{3} \\right)} + 1.5 \\sin{\\left(q_{3} \\right)} \\cos{\\left(q_{2} \\right)}\\right) \\sin{\\left(q_{4} \\right)} \\cos{\\left(q_{5} \\right)} & 0\\end{matrix}\\right]$",
            "text/plain": [
              "[0, -9.81*(-1.5*sin(q2)*sin(q3) + 1.5*cos(q2)*cos(q3))*sin(q4)*sin(q5) - 9.81*(-0.5*sin(q2)*sin(q3) + 0.5*cos(q2)*cos(q3))*sin(q4)*sin(q5) - 9.81*(-1.5*sin(q2)*cos(q3) - 1.5*sin(q3)*cos(q2))*cos(q5) - 9.81*(-0.5*sin(q2)*cos(q3) - 0.5*sin(q3)*cos(q2))*cos(q5) + 58.86*sin(q2)*cos(q3) + 44.145*sin(q2) + 58.86*sin(q3)*cos(q2), -9.81*(-1.5*sin(q2)*sin(q3) + 1.5*cos(q2)*cos(q3))*sin(q4)*sin(q5) - 9.81*(-0.5*sin(q2)*sin(q3) + 0.5*cos(q2)*cos(q3))*sin(q4)*sin(q5) - 9.81*(-1.5*sin(q2)*cos(q3) - 1.5*sin(q3)*cos(q2))*cos(q5) - 9.81*(-0.5*sin(q2)*cos(q3) - 0.5*sin(q3)*cos(q2))*cos(q5) + 58.86*sin(q2)*cos(q3) + 58.86*sin(q3)*cos(q2), -9.81*(0.5*sin(q2)*cos(q3) + 0.5*sin(q3)*cos(q2))*sin(q5)*cos(q4) - 9.81*(1.5*sin(q2)*cos(q3) + 1.5*sin(q3)*cos(q2))*sin(q5)*cos(q4), 9.81*(-1.5*sin(q2)*sin(q3) + 1.5*cos(q2)*cos(q3))*sin(q5) + 9.81*(-0.5*sin(q2)*sin(q3) + 0.5*cos(q2)*cos(q3))*sin(q5) - 9.81*(0.5*sin(q2)*cos(q3) + 0.5*sin(q3)*cos(q2))*sin(q4)*cos(q5) - 9.81*(1.5*sin(q2)*cos(q3) + 1.5*sin(q3)*cos(q2))*sin(q4)*cos(q5), 0]"
            ]
          },
          "metadata": {},
          "execution_count": 12
        }
      ]
    },
    {
      "cell_type": "markdown",
      "source": [
        "## **Numerical Input**\n",
        "The following functions take numerical values for $q$ , $q̇$ from the user and subtitue them in the symbolic equations we derived before:"
      ],
      "metadata": {
        "id": "WCyABm880ID4"
      }
    },
    {
      "cell_type": "code",
      "source": [
        "def Mnum(qVal):\n",
        "  ret = np.zeros((6, 6))\n",
        "  for i in range(6):\n",
        "    for j in range(6):\n",
        "      ret[i, j] = M[i, j].subs([(q[i], qVal[i]) for i in range(6)]).evalf()\n",
        "  return ret\n",
        "\n",
        "def Cnum(qVal, dqVal):\n",
        "  ret = np.zeros((6, 6))\n",
        "  for i in range(6):\n",
        "    for j in range(6):\n",
        "      ret[i, j] = C[i, j].subs([(q[i], qVal[i]) for i in range(6)] + [(dq[i], dqVal[i]) for i in range(6)]).evalf()\n",
        "  return ret\n",
        "\n",
        "def gnum(qVal):\n",
        "  ret = np.zeros(6)\n",
        "  for i in range(6):\n",
        "    ret[i] = g[i].subs([(q[i], qVal[i]) for i in range(6)]).evalf()\n",
        "  return ret"
      ],
      "metadata": {
        "id": "csIX_Nvoe37L"
      },
      "execution_count": null,
      "outputs": []
    },
    {
      "cell_type": "code",
      "source": [
        "sp.Array(Mnum([i + 1 for i in range(6)]))"
      ],
      "metadata": {
        "colab": {
          "base_uri": "https://localhost:8080/",
          "height": 139
        },
        "id": "AKMn6ZVOQ-p6",
        "outputId": "c8362258-6d59-4ba1-a589-52c8baeb6d87"
      },
      "execution_count": null,
      "outputs": [
        {
          "output_type": "execute_result",
          "data": {
            "text/latex": "$\\displaystyle \\left[\\begin{matrix}10.9651232516462 & 1.71588168464135 & 0.701053802072838 & 5.44776419721231 & 2.70496619099055 & 0.403610191040904\\\\1.71588168464135 & 10.22187886919 & 11.2686545434888 & 1.22436982533715 & 4.41543950944622 & 0.912155126166288\\\\0.701053802072838 & 11.2686545434888 & 17.5654302177876 & -0.0166743438293366 & 4.56984845967482 & 0.912155126166288\\\\5.44776419721231 & 1.22436982533715 & -0.0166743438293366 & 7.01061934633536 & 2.24488289648223 & 1.47233108508257\\\\2.70496619099055 & 4.41543950944622 & 4.56984845967482 & 2.24488289648223 & 3.96342708199957 & 0.68075478845144\\\\0.403610191040904 & 0.912155126166288 & 0.912155126166288 & 1.47233108508257 & 0.68075478845144 & 1.0\\end{matrix}\\right]$",
            "text/plain": [
              "[[10.9651232516462, 1.71588168464135, 0.701053802072838, 5.44776419721231, 2.70496619099055, 0.403610191040904], [1.71588168464135, 10.22187886919, 11.2686545434888, 1.22436982533715, 4.41543950944622, 0.912155126166288], [0.701053802072838, 11.2686545434888, 17.5654302177876, -0.0166743438293366, 4.56984845967482, 0.912155126166288], [5.44776419721231, 1.22436982533715, -0.0166743438293366, 7.01061934633536, 2.24488289648223, 1.47233108508257], [2.70496619099055, 4.41543950944622, 4.56984845967482, 2.24488289648223, 3.96342708199957, 0.68075478845144], [0.403610191040904, 0.912155126166288, 0.912155126166288, 1.47233108508257, 0.68075478845144, 1.0]]"
            ]
          },
          "metadata": {},
          "execution_count": 17
        }
      ]
    },
    {
      "cell_type": "code",
      "source": [
        "sp.Array(Cnum([i + 1 for i in range(6)], [-i - 1 for i in range(6)]))"
      ],
      "metadata": {
        "id": "iU05GtoQSiqk"
      },
      "execution_count": null,
      "outputs": []
    },
    {
      "cell_type": "code",
      "source": [
        "sp.Array(gnum([i + 1 for i in range(6)]))"
      ],
      "metadata": {
        "colab": {
          "base_uri": "https://localhost:8080/",
          "height": 39
        },
        "id": "w7rrtaqGTFcL",
        "outputId": "54ec434a-b9f2-433a-bbe3-a108fac2b523"
      },
      "execution_count": null,
      "outputs": [
        {
          "output_type": "execute_result",
          "data": {
            "text/latex": "$\\displaystyle \\left[\\begin{matrix}0.0 & -25.6771341979879 & -65.8180691052077 & 11.7925752320015 & -9.37578629853534 & 0.0\\end{matrix}\\right]$",
            "text/plain": [
              "[0.0, -25.6771341979879, -65.8180691052077, 11.7925752320015, -9.37578629853534, 0.0]"
            ]
          },
          "metadata": {},
          "execution_count": 21
        }
      ]
    }
  ]
}